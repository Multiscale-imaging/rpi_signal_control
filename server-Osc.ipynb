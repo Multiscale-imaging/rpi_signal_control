{
 "cells": [
  {
   "cell_type": "code",
   "execution_count": 1,
   "id": "afd546f0-13de-4ce8-9cc0-20c93d0de4f5",
   "metadata": {},
   "outputs": [],
   "source": [
    "#!/usr/bin/env python\n",
    "import socket\n",
    "import time\n",
    "from datetime import datetime\n",
    "import threading\n",
    "import pyvisa\n",
    "import usbtmc"
   ]
  },
  {
   "cell_type": "code",
   "execution_count": 2,
   "id": "913ed74d-e26b-41e9-8476-da0b03f970d0",
   "metadata": {},
   "outputs": [
    {
     "data": {
      "text/plain": [
       "('ASRL/dev/ttyAMA0::INSTR', 'USB0::2391::6040::MY58103677::0::INSTR')"
      ]
     },
     "execution_count": 2,
     "metadata": {},
     "output_type": "execute_result"
    }
   ],
   "source": [
    "'''\n",
    "Setup communication\n",
    "'''\n",
    "# pip install pyvisa, pyvisa-py'\n",
    "#find ID's with \"lsUSB\"\n",
    "#then run this as super user\n",
    "#echo 'SUBSYSTEM==\"usb\", ACTION==\"add\", ATTRS{idVendor}==\"0957\", ATTRS{idProduct}==\"1798\" GROUP=\"tty\", MODE=\"0660\"' >> /etc/udev/rules.d/99-com.rules\n",
    "# sudo usermod -a -G tty pi\n",
    "\n",
    "rm = pyvisa.ResourceManager()\n",
    "rm.list_resources('?*')\n",
    "\n"
   ]
  },
  {
   "cell_type": "code",
   "execution_count": 3,
   "id": "29373af0-f254-4ef1-8ea0-86b9526fd4c6",
   "metadata": {},
   "outputs": [],
   "source": [
    "#inst = rm.open_resource('USB0::1027::60786::100031819913::0::RAW')\n",
    "#USB0::2391::6040::MY58103677::INSTR #read this on the scope\n",
    "#inst =  usbtmc.Instrument(2391,6040)\n",
    "inst = rm.open_resource('USB0::2391::6040::MY58103677::0::INSTR')"
   ]
  },
  {
   "cell_type": "code",
   "execution_count": 4,
   "id": "8381b208-9fed-4bbb-a5c5-77f1077849f3",
   "metadata": {},
   "outputs": [
    {
     "name": "stdout",
     "output_type": "stream",
     "text": [
      "USBInstrument at USB0::2391::6040::MY58103677::0::INSTR\n"
     ]
    }
   ],
   "source": [
    "#Did we connect to the device we think we connected to?\n",
    "print(inst)"
   ]
  },
  {
   "cell_type": "code",
   "execution_count": 5,
   "id": "2999c12e-c797-45da-a5c2-538536b244be",
   "metadata": {},
   "outputs": [
    {
     "name": "stdout",
     "output_type": "stream",
     "text": [
      "AGILENT TECHNOLOGIES,DSO-X 2014A,MY58103677,02.43.2018020635\n",
      "\n"
     ]
    }
   ],
   "source": [
    "inst.write('*IDN?')\n",
    "print(inst.read())"
   ]
  },
  {
   "cell_type": "code",
   "execution_count": null,
   "id": "d825ed6c-c182-4ae9-8030-cd4457c68ae4",
   "metadata": {},
   "outputs": [],
   "source": []
  },
  {
   "cell_type": "code",
   "execution_count": null,
   "id": "4b413cce-b436-4060-aea1-a48e65738cd4",
   "metadata": {},
   "outputs": [],
   "source": [
    "\n",
    "\n",
    "def query(query):\n",
    "    \n",
    "    # send query\n",
    "    inst.write(query)\n",
    "    \n",
    "    # collect return\n",
    "    out =''\n",
    "    while True:\n",
    "        line = inst.read_bytes(1)\n",
    "        if line == b'1`':\n",
    "            if len(out)>0:\n",
    "                break\n",
    "            continue\n",
    "        out += line.decode('utf-8')\n",
    "        if b'\\n' in line: # newline marks end of return\n",
    "            break\n",
    "            \n",
    "    return out.strip('\\n')\n",
    "\n",
    "#add the commands we want to use - see manual\n",
    "HMF2525_keys = [\n",
    "    'FUNC',\n",
    "    'OUTPut',\n",
    "    'FREQuency',\n",
    "    'PERiod',\n",
    "    'VOLTage',\n",
    "    'VOLTage:UNIT',\n",
    "    'VOLTage:HIGH',\n",
    "    'VOLTage:LOW',\n",
    "    'VOLTage:OFFSet',\n",
    "    'FUNCtion:PULSe:WIDTh:HIGH',\n",
    "    'FUNCtion:PULSe:WIDTh:LOW',\n",
    "    'FUNCtion:PULSe:DCYCle',\n",
    "    'FUNCtion:PULSe:ETIMe',\n",
    "    'TRIGger:SOURce',# {IMMediate | EXTernal}\n",
    "    'BURSt:MODE',# TRIGgered | GATed\n",
    "    'BURSt:NCYCles',\n",
    "    'BURSt:INTernal:PERiod',\n",
    "    'BURSt:PHASe', #0 to 360\n",
    "    'BURSt:STATe',\n",
    "    ]\n",
    "\n",
    "\n",
    "def set_single_param(key, val):\n",
    "    '''\n",
    "    set single parameter on the signal generator\n",
    "    '''\n",
    "    if key in HMF2525_keys:\n",
    "        time.sleep(0.1)\n",
    "        inst.write(key+' '+str(val))\n",
    "        print(f'   set HMF2525  {key}: {val}')\n",
    "    else:\n",
    "        print(f\"ERROR: don't know wha to do with {key}: {val}, skipping\")\n",
    "    # i.e. parameters['chopper:phase'] = 10 --> chopper.phase = 10\n",
    "    \n",
    "def set_params(parameters):\n",
    "    '''\n",
    "    set multiple parameters on the signal generator\n",
    "    '''\n",
    "    for key in parameters.keys():\n",
    "        set_single_param(key, parameters[key])\n",
    "        \n",
    "\n",
    "def get_params():\n",
    "    '''\n",
    "    get all params from signal generator\n",
    "    returns a dictionary of key:value for each key in HMF2525_keys\n",
    "    '''\n",
    "    parameters = {}\n",
    "    for key in HMF2525_keys:\n",
    "        print(f'    HMF2525 query {key}?')\n",
    "        parameters[key] = query(key+'?')\n",
    "        print(parameters[key])\n",
    "    return parameters\n"
   ]
  },
  {
   "cell_type": "code",
   "execution_count": null,
   "id": "31fd7aa4-cb0f-49ed-9c8c-95bc06c86697",
   "metadata": {},
   "outputs": [],
   "source": [
    "'''\n",
    "test communication with signal generator\n",
    "should return FUNC = PULS\n",
    "'''\n",
    "print('initial query',query('*ESR?'))\n",
    "inst.write('RAMP')\n",
    "#FUNCtion {SINusoid | SQUare | RAMP | PULSe | ARBitrary}\n",
    "query('FUNC?')"
   ]
  },
  {
   "cell_type": "code",
   "execution_count": null,
   "id": "f770a295-ca00-4868-a224-4f246e26a6f1",
   "metadata": {},
   "outputs": [],
   "source": [
    "inst.write(f'VOLT {2.0}')\n",
    "#10 is good, 14 is bad"
   ]
  },
  {
   "cell_type": "code",
   "execution_count": null,
   "id": "97d2e9d8-1942-4933-a27e-720067972309",
   "metadata": {},
   "outputs": [],
   "source": [
    "def data_to_dict(inp):\n",
    "    '''\n",
    "    converts a string to a dictionary, splitting the data at ':' for each key/val pair\n",
    "    the string is assumed to be generated by casting a dictionary to a string, i.e. str(dict)\n",
    "    '''\n",
    "    spl = inp.split(\"', '\")\n",
    "    spl[0] = spl[0][2:]\n",
    "    spl[-1] = spl[-1][:-2]\n",
    "    parameters = {}\n",
    "    for i, sp in enumerate(spl):\n",
    "        key_val = sp.split(\"': '\")\n",
    "        parameters[key_val[0]] = key_val[1]\n",
    "    return parameters\n",
    "\n",
    "\n",
    "\n",
    "class client(threading.Thread):\n",
    "    def __init__(self, socket, address):\n",
    "        threading.Thread.__init__(self)\n",
    "        self.sock = socket\n",
    "        self.addr = address\n",
    "        self.start()\n",
    "\n",
    "    def run(self):\n",
    "        data = self.sock.recv(BUFFER_SIZE).decode() # blocking until it recieves data\n",
    "        now = datetime.now()\n",
    "        current_time = now.strftime(\"%H:%M:%S\")\n",
    "        print(\"Current Time =\", current_time)\n",
    "        if data == '?':\n",
    "            parameters = get_params()\n",
    "            self.sock.send(str(parameters).encode())\n",
    "            print('    sent parameters')\n",
    "        elif '=' in data:\n",
    "            key = data.split('=')[0].strip()\n",
    "            val = data.split('=')[1].strip()\n",
    "            set_single_param(key, val)\n",
    "            self.reply_single(key)\n",
    "        elif data[0] == '?' or data[-1]=='?':\n",
    "            self.reply_single(data.strip('?'))\n",
    "        else:\n",
    "            parameters = data_to_dict(data)\n",
    "            parse_parameters(parameters)\n",
    "            #process(parameters)\n",
    "            #conn.close()\n",
    "            \n",
    "    def reply_single(self, key):\n",
    "        '''\n",
    "        ask signal generator about key, send answer to the socket\n",
    "        '''\n",
    "        val = query(key+'?')\n",
    "        self.sock.send(str(key+' = '+ str(val)).encode())\n",
    "\n",
    "serversocket = socket.socket(socket.AF_INET, socket.SOCK_STREAM)\n",
    "host = \"127.0.0.1\"\n",
    "port = 5006\n",
    "BUFFER_SIZE = 1024\n",
    "serversocket.bind((host, port))\n",
    "serversocket.listen(5)\n",
    "print ('server started and listening')\n",
    "while 1:\n",
    "    clientsocket, address = serversocket.accept()\n",
    "    client(clientsocket, address)"
   ]
  },
  {
   "cell_type": "code",
   "execution_count": null,
   "id": "d8b27720-780e-4d04-8291-aa37a2a3409b",
   "metadata": {},
   "outputs": [],
   "source": []
  }
 ],
 "metadata": {
  "kernelspec": {
   "display_name": "Python 3 (ipykernel)",
   "language": "python",
   "name": "python3"
  },
  "language_info": {
   "codemirror_mode": {
    "name": "ipython",
    "version": 3
   },
   "file_extension": ".py",
   "mimetype": "text/x-python",
   "name": "python",
   "nbconvert_exporter": "python",
   "pygments_lexer": "ipython3",
   "version": "3.9.2"
  }
 },
 "nbformat": 4,
 "nbformat_minor": 5
}
