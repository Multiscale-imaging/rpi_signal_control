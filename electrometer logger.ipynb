{
 "cells": [
  {
   "cell_type": "code",
   "execution_count": 1,
   "id": "413359de-9490-43c5-9b37-9fc675fe04b6",
   "metadata": {},
   "outputs": [],
   "source": [
    "import socket\n",
    "import time\n",
    "from datetime import datetime\n",
    "import threading\n",
    "import pyvisa\n",
    "import numpy as np"
   ]
  },
  {
   "cell_type": "code",
   "execution_count": 2,
   "id": "55c5ab4a-0c27-4f16-801e-7cbe693967c2",
   "metadata": {},
   "outputs": [
    {
     "name": "stdout",
     "output_type": "stream",
     "text": [
      "('ASRL3::INSTR',)\n",
      "KEITHLEY INSTRUMENTS INC.,MODEL 6517B,4097463,A13/700x \n"
     ]
    }
   ],
   "source": [
    "'''\n",
    "Setup communication\n",
    "'''\n",
    "# pip install pyvisa, pyvisa-py'\n",
    "#find ID's with \"lsusb\"\n",
    "#then run this as super user\n",
    "#echo 'SUBSYSTEM==\"usb\", ACTION==\"add\", ATTRS{idVendor}==\"05e6\", ATTRS{idProduct}==\"6500\" GROUP=\"tty\", MODE=\"0660\"' >> /etc/udev/rules.d/99-com.rules\n",
    "# sudo usermod -a -G tty pi\n",
    "\n",
    "rm = pyvisa.ResourceManager()\n",
    "print(rm.list_resources('?*'))\n",
    "\n",
    "inst = rm.open_resource('ASRL3::INSTR')\n",
    "inst.read_termination = '\\r'\n",
    "inst.write_termination = '\\r'\n",
    "inst.baud_rate = 19200\n",
    "\n",
    "inst.write('*IDN?')\n",
    "print(inst.read())"
   ]
  },
  {
   "cell_type": "code",
   "execution_count": 81,
   "id": "b2bb1958-0d78-43b9-bc9e-57ed1779ceed",
   "metadata": {},
   "outputs": [
    {
     "data": {
      "text/plain": [
       "30"
      ]
     },
     "execution_count": 81,
     "metadata": {},
     "output_type": "execute_result"
    }
   ],
   "source": [
    "inst.write('SENS:FUNC \"VOLT:DC\"')\n",
    "inst.write('SENS:VOLT:DC:RANG 0.000001')\n",
    "inst.write('SENS:VOLT:DC:NPLC 1')\n",
    "#inst.write('SENS:VOLT:REFerence:state OFF')"
   ]
  },
  {
   "cell_type": "code",
   "execution_count": 69,
   "id": "0371bfb6-ac68-4129-a55f-fca3d44b9efc",
   "metadata": {},
   "outputs": [
    {
     "data": {
      "text/plain": [
       "20"
      ]
     },
     "execution_count": 69,
     "metadata": {},
     "output_type": "execute_result"
    }
   ],
   "source": [
    "inst.write('SENS:FUNC \"CURR:DC\"')\n",
    "inst.write('SENS:CURR:DC:RANG 0.00000000001')\n",
    "inst.write('SENS:CURR:DC:NPLC 1')\n"
   ]
  },
  {
   "cell_type": "code",
   "execution_count": 61,
   "id": "4063b9ba-60e3-4475-9355-9904b1430a90",
   "metadata": {},
   "outputs": [
    {
     "name": "stdout",
     "output_type": "stream",
     "text": [
      "KEITHLEY INSTRUMENTS INC.,MODEL 6517B,4097463,A13/700x \n"
     ]
    },
    {
     "data": {
      "text/plain": [
       "20"
      ]
     },
     "execution_count": 61,
     "metadata": {},
     "output_type": "execute_result"
    }
   ],
   "source": [
    "inst.write('*CLS')\n",
    "inst.write('*RST')\n",
    "inst.write('*IDN?')\n",
    "print(inst.read())\n",
    "inst.write('SYSTem:ZCHeck OFF')\n",
    "inst.write('CALCulate:State OFF')"
   ]
  },
  {
   "cell_type": "code",
   "execution_count": 62,
   "id": "29abc336-7e3d-49a6-8f2b-1807c170e0cd",
   "metadata": {},
   "outputs": [
    {
     "data": {
      "text/plain": [
       "23"
      ]
     },
     "execution_count": 62,
     "metadata": {},
     "output_type": "execute_result"
    }
   ],
   "source": [
    "inst.write('INITiate:CONTinuous ON')"
   ]
  },
  {
   "cell_type": "code",
   "execution_count": 63,
   "id": "a88593a6-ed6e-4811-a203-b8c93e980d43",
   "metadata": {},
   "outputs": [],
   "source": [
    "def query(s):\n",
    "    inst.write(s)\n",
    "    # collect return\n",
    "    out =''\n",
    "    while True:\n",
    "        line = inst.read_bytes(1)\n",
    "        if line == b'1`':\n",
    "            if len(out)>0:\n",
    "                break\n",
    "            continue\n",
    "        out += line.decode('utf-8')\n",
    "        if b'\\r' in line: # newline marks end of return\n",
    "            break\n",
    "    return out"
   ]
  },
  {
   "cell_type": "code",
   "execution_count": 64,
   "id": "23c37ab6-c967-4e6a-838f-21b1258d6e7d",
   "metadata": {},
   "outputs": [
    {
     "data": {
      "text/plain": [
       "'+00.11716E+00NVDC,04:45:09.00,13-Sep-2022,+00311RDNG#\\r'"
      ]
     },
     "execution_count": 64,
     "metadata": {},
     "output_type": "execute_result"
    }
   ],
   "source": [
    "query('SENS:DATA:FRES?')"
   ]
  },
  {
   "cell_type": "code",
   "execution_count": 106,
   "id": "1969b27d-e657-4ac2-bc1d-7e7f48017c5c",
   "metadata": {},
   "outputs": [
    {
     "name": "stdout",
     "output_type": "stream",
     "text": [
      "electrometer 2x10 datapoints\r"
     ]
    }
   ],
   "source": [
    "rate = 10\n",
    "samples = 0\n",
    "def aquire_as_thread():\n",
    "    global samples\n",
    "    while keep_alive:\n",
    "        s = str(datetime.now()) + '\\n'\n",
    "        for i in range(rate):\n",
    "            s = s+query('SENS:DATA:FRES?').split(',')[0]\n",
    "            time.sleep(1/rate)\n",
    "            if i<rate-1:\n",
    "                s = s + ' '\n",
    "        with open('electrometer_log.txt','a') as fi:\n",
    "            fi.write(s+'\\n')\n",
    "        samples += 1\n",
    "        if keep_alive:\n",
    "            print(f'electrometer {samples}x{rate} datapoints', end = '\\r')\n",
    "        else:\n",
    "            break\n",
    "            \n",
    "keep_alive = True \n",
    "threading.Thread(target=aquire_as_thread, args=()).start()\n"
   ]
  },
  {
   "cell_type": "code",
   "execution_count": 107,
   "id": "c39a4b66-a1de-4f2e-9865-c19c0d59dda8",
   "metadata": {},
   "outputs": [
    {
     "name": "stdout",
     "output_type": "stream",
     "text": [
      "multimeter 2x10 datapoints\n"
     ]
    }
   ],
   "source": [
    "# to stop reading thread:\n",
    "if 1:\n",
    "    keep_alive = False\n",
    "    print(f'multimeter {samples}x{rate} datapoints')"
   ]
  },
  {
   "cell_type": "code",
   "execution_count": 3,
   "id": "f67e33d3-06bb-4968-8306-7e88cbb35e9d",
   "metadata": {},
   "outputs": [],
   "source": [
    "import os\n",
    "def get_last_lines(file, n):\n",
    "    with open(file, 'rb') as f:\n",
    "        if os.path.getsize(file) > 1000:\n",
    "            f.seek(-1000, 2)\n",
    "        data = f.readlines()\n",
    "        lines = []\n",
    "        for i in range(n,0,-1):\n",
    "            lines.append(data[-i].decode(\"utf-8\"))\n",
    "        lines = ' / '.join(lines).replace('\\r\\n', '').strip()\n",
    "    return lines"
   ]
  },
  {
   "cell_type": "code",
   "execution_count": 4,
   "id": "c249a3f7-2acf-40ac-afaf-c9d4817f2be9",
   "metadata": {},
   "outputs": [
    {
     "ename": "FileNotFoundError",
     "evalue": "[Errno 2] No such file or directory: 'electrometer_log.txt'",
     "output_type": "error",
     "traceback": [
      "\u001b[1;31m---------------------------------------------------------------------------\u001b[0m",
      "\u001b[1;31mFileNotFoundError\u001b[0m                         Traceback (most recent call last)",
      "Cell \u001b[1;32mIn [4], line 1\u001b[0m\n\u001b[1;32m----> 1\u001b[0m lines \u001b[38;5;241m=\u001b[39m \u001b[43mget_last_lines\u001b[49m\u001b[43m(\u001b[49m\u001b[38;5;124;43m'\u001b[39;49m\u001b[38;5;124;43melectrometer_log.txt\u001b[39;49m\u001b[38;5;124;43m'\u001b[39;49m\u001b[43m,\u001b[49m\u001b[43m \u001b[49m\u001b[38;5;241;43m2\u001b[39;49m\u001b[43m)\u001b[49m\n\u001b[0;32m      2\u001b[0m \u001b[38;5;28mprint\u001b[39m(lines)\n",
      "Cell \u001b[1;32mIn [3], line 3\u001b[0m, in \u001b[0;36mget_last_lines\u001b[1;34m(file, n)\u001b[0m\n\u001b[0;32m      2\u001b[0m \u001b[38;5;28;01mdef\u001b[39;00m \u001b[38;5;21mget_last_lines\u001b[39m(file, n):\n\u001b[1;32m----> 3\u001b[0m     \u001b[38;5;28;01mwith\u001b[39;00m \u001b[38;5;28;43mopen\u001b[39;49m\u001b[43m(\u001b[49m\u001b[43mfile\u001b[49m\u001b[43m,\u001b[49m\u001b[43m \u001b[49m\u001b[38;5;124;43m'\u001b[39;49m\u001b[38;5;124;43mrb\u001b[39;49m\u001b[38;5;124;43m'\u001b[39;49m\u001b[43m)\u001b[49m \u001b[38;5;28;01mas\u001b[39;00m f:\n\u001b[0;32m      4\u001b[0m         \u001b[38;5;28;01mif\u001b[39;00m os\u001b[38;5;241m.\u001b[39mpath\u001b[38;5;241m.\u001b[39mgetsize(file) \u001b[38;5;241m>\u001b[39m \u001b[38;5;241m1000\u001b[39m:\n\u001b[0;32m      5\u001b[0m             f\u001b[38;5;241m.\u001b[39mseek(\u001b[38;5;241m-\u001b[39m\u001b[38;5;241m1000\u001b[39m, \u001b[38;5;241m2\u001b[39m)\n",
      "\u001b[1;31mFileNotFoundError\u001b[0m: [Errno 2] No such file or directory: 'electrometer_log.txt'"
     ]
    }
   ],
   "source": [
    "lines = get_last_lines('electrometer_log.txt', 2)\n",
    "print(lines)"
   ]
  },
  {
   "cell_type": "code",
   "execution_count": null,
   "id": "c8d0b792-3bb6-4b66-bce7-2be42936388a",
   "metadata": {},
   "outputs": [],
   "source": []
  },
  {
   "cell_type": "code",
   "execution_count": null,
   "id": "00d3f9b7-f771-4940-88fb-03f0b00d686a",
   "metadata": {},
   "outputs": [],
   "source": []
  },
  {
   "cell_type": "code",
   "execution_count": null,
   "id": "533bb416-7a34-4412-ae34-f672529bc5df",
   "metadata": {},
   "outputs": [],
   "source": []
  },
  {
   "cell_type": "code",
   "execution_count": null,
   "id": "49f3ebd4-418b-488b-9316-75fceef8f6f6",
   "metadata": {},
   "outputs": [],
   "source": []
  },
  {
   "cell_type": "code",
   "execution_count": null,
   "id": "caa5d518-0614-4edd-8ea6-9f0a7f3f8599",
   "metadata": {},
   "outputs": [],
   "source": []
  }
 ],
 "metadata": {
  "kernelspec": {
   "display_name": "Python 3 (ipykernel)",
   "language": "python",
   "name": "python3"
  },
  "language_info": {
   "codemirror_mode": {
    "name": "ipython",
    "version": 3
   },
   "file_extension": ".py",
   "mimetype": "text/x-python",
   "name": "python",
   "nbconvert_exporter": "python",
   "pygments_lexer": "ipython3",
   "version": "3.10.7"
  }
 },
 "nbformat": 4,
 "nbformat_minor": 5
}
