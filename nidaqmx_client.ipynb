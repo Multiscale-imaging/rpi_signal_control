{
 "cells": [
  {
   "cell_type": "code",
   "execution_count": 3,
   "id": "a6d12508-9cb8-4903-8249-65dd9e6c9b07",
   "metadata": {},
   "outputs": [
    {
     "name": "stdout",
     "output_type": "stream",
     "text": [
      "192.168.1.205\n"
     ]
    }
   ],
   "source": [
    "import socket\n",
    "import numpy as np\n",
    "#import nidaqmxServerBackend as sb\n",
    "import socket\n",
    "def get_ip():\n",
    "    s = socket.socket(socket.AF_INET, socket.SOCK_DGRAM)\n",
    "    s.settimeout(0)\n",
    "    try:\n",
    "        # doesn't even have to be reachable\n",
    "        s.connect(('10.254.254.254', 1))\n",
    "        IP = s.getsockname()[0]\n",
    "    except Exception:\n",
    "        IP = '127.0.0.1'\n",
    "    finally:\n",
    "        s.close()\n",
    "    return IP\n",
    "\n",
    "ip = get_ip() #\"127.0.0.1\"\n",
    "print(ip)\n",
    "class sender:\n",
    "    def __init__(self,TCP_IP = ip, TCP_PORT = 5006):\n",
    "        self.s = socket.socket(socket.AF_INET, socket.SOCK_STREAM)\n",
    "        self.s.connect((TCP_IP, TCP_PORT))\n",
    "        \n",
    "\n",
    "    def send(self,key, BUFFER_SIZE = 1024):\n",
    "        '''\n",
    "        sends data to the server\n",
    "        this funciton interacts with the server in the same way as the beamline interacts with motors\n",
    "        '''\n",
    "        self.s.send(str(key).encode())\n",
    "        data = self.s.recv(BUFFER_SIZE).decode()\n",
    "        return data\n",
    "    def close(self):\n",
    "        self.s.close()"
   ]
  },
  {
   "cell_type": "code",
   "execution_count": 4,
   "id": "c3e23404-7965-4467-bc5a-503f081fc77d",
   "metadata": {},
   "outputs": [],
   "source": [
    "nidaqmx = sender(TCP_PORT = 5009)"
   ]
  },
  {
   "cell_type": "markdown",
   "id": "293ecfc5-6b75-4418-bb2f-e94ce219e22a",
   "metadata": {
    "tags": []
   },
   "source": [
    "# Do stuff"
   ]
  },
  {
   "cell_type": "code",
   "execution_count": 5,
   "id": "0a29f391-7d2f-42f6-af05-08dc079fb76e",
   "metadata": {},
   "outputs": [
    {
     "data": {
      "text/plain": [
       "'setting VOLT 0.0'"
      ]
     },
     "execution_count": 5,
     "metadata": {},
     "output_type": "execute_result"
    }
   ],
   "source": [
    "nidaqmx.send('VOLT=0')"
   ]
  },
  {
   "cell_type": "code",
   "execution_count": 6,
   "id": "995e3b36-096e-44aa-8cbc-8677751e7ba7",
   "metadata": {},
   "outputs": [
    {
     "data": {
      "text/plain": [
       "'2022-09-09 16:06:01.551564 / -0.00007 -0.00007 -0.00023 -0.00007 -0.00007 0.00009 -0.00007 -0.00023 -0.00007 -0.00023'"
      ]
     },
     "execution_count": 6,
     "metadata": {},
     "output_type": "execute_result"
    }
   ],
   "source": [
    "nidaqmx.send('VOLT?')"
   ]
  },
  {
   "cell_type": "code",
   "execution_count": 7,
   "id": "e6b16a98-5723-4d3f-9680-d2f70b23a417",
   "metadata": {},
   "outputs": [
    {
     "data": {
      "text/plain": [
       "'2022-09-09 16:06:02.181561 / -6.756058E-09 -5.864317E-09 -7.400094E-09 -5.418448E-09 -7.486791E-09 -6.099639E-09 -8.130826E-09 -7.969818E-09 -7.672571E-09 -9.158805E-09'"
      ]
     },
     "execution_count": 7,
     "metadata": {},
     "output_type": "execute_result"
    }
   ],
   "source": [
    "nidaqmx.send('CUR?')"
   ]
  },
  {
   "cell_type": "code",
   "execution_count": null,
   "id": "4a1d0cd0-8895-44ea-a374-e46bc078e6d1",
   "metadata": {},
   "outputs": [],
   "source": [
    "import time\n",
    "while True:\n",
    "    print(nidaqmx.send('VOLT?'))\n",
    "    time.sleep(10)"
   ]
  },
  {
   "cell_type": "markdown",
   "id": "48ae8a15-bb8e-4abc-9e15-caf72155276f",
   "metadata": {},
   "source": [
    "# End"
   ]
  },
  {
   "cell_type": "code",
   "execution_count": 119,
   "id": "d607fb27-3abe-4c84-ac3f-09c42dba26bf",
   "metadata": {},
   "outputs": [],
   "source": [
    "nidaqmx.close()"
   ]
  },
  {
   "cell_type": "code",
   "execution_count": 143,
   "id": "278a27ef-5cf7-4067-8c89-448f30b11208",
   "metadata": {},
   "outputs": [],
   "source": []
  },
  {
   "cell_type": "code",
   "execution_count": null,
   "id": "9c2e7678-d711-4d0d-bad5-c53aa67792b9",
   "metadata": {},
   "outputs": [],
   "source": []
  },
  {
   "cell_type": "code",
   "execution_count": 106,
   "id": "5b7203c3-713c-4e9b-b8f6-b5c641a55a1a",
   "metadata": {},
   "outputs": [],
   "source": []
  },
  {
   "cell_type": "code",
   "execution_count": null,
   "id": "1bb86459-3d48-42ee-a3b9-16180d1b8bdb",
   "metadata": {},
   "outputs": [],
   "source": []
  },
  {
   "cell_type": "code",
   "execution_count": null,
   "id": "fecc8f17-e416-407a-8bc6-ca816b56db10",
   "metadata": {},
   "outputs": [],
   "source": []
  }
 ],
 "metadata": {
  "kernelspec": {
   "display_name": "Python 3 (ipykernel)",
   "language": "python",
   "name": "python3"
  },
  "language_info": {
   "codemirror_mode": {
    "name": "ipython",
    "version": 3
   },
   "file_extension": ".py",
   "mimetype": "text/x-python",
   "name": "python",
   "nbconvert_exporter": "python",
   "pygments_lexer": "ipython3",
   "version": "3.10.7"
  }
 },
 "nbformat": 4,
 "nbformat_minor": 5
}
