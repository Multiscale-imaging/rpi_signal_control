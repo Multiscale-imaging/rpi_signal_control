{
 "cells": [
  {
   "cell_type": "code",
   "execution_count": 12,
   "id": "a6d12508-9cb8-4903-8249-65dd9e6c9b07",
   "metadata": {},
   "outputs": [
    {
     "name": "stdout",
     "output_type": "stream",
     "text": [
      "160.103.26.51\n"
     ]
    }
   ],
   "source": [
    "import socket\n",
    "import numpy as np\n",
    "import serverBackend as sb\n",
    "ip = sb.get_ip() #\"127.0.0.1\"\n",
    "print(ip)\n",
    "class sender:\n",
    "    def __init__(self,TCP_IP = ip, TCP_PORT = 5006):\n",
    "        self.s = socket.socket(socket.AF_INET, socket.SOCK_STREAM)\n",
    "        self.s.connect((TCP_IP, TCP_PORT))\n",
    "        \n",
    "\n",
    "    def send(self,key, BUFFER_SIZE = 1024):\n",
    "        '''\n",
    "        sends data to the server\n",
    "        this funciton interacts with the server in the same way as the beamline interacts with motors\n",
    "        '''\n",
    "        self.s.send(str(key).encode())\n",
    "        data = self.s.recv(BUFFER_SIZE).decode()\n",
    "        return data\n",
    "    def close(self):\n",
    "        self.s.close()"
   ]
  },
  {
   "cell_type": "code",
   "execution_count": 120,
   "id": "57b066ba-2f6d-4a98-b09e-8b04f8a7c2c5",
   "metadata": {},
   "outputs": [],
   "source": [
    "multimeter = sender(TCP_PORT = 5008)"
   ]
  },
  {
   "cell_type": "code",
   "execution_count": 144,
   "id": "51a31d5c-1c0d-4710-b2cd-0d06983b4350",
   "metadata": {},
   "outputs": [],
   "source": [
    "oscilloscope = sender(TCP_PORT = 5007)"
   ]
  },
  {
   "cell_type": "markdown",
   "id": "293ecfc5-6b75-4418-bb2f-e94ce219e22a",
   "metadata": {
    "tags": []
   },
   "source": [
    "# Do stuff"
   ]
  },
  {
   "cell_type": "code",
   "execution_count": 142,
   "id": "995e3b36-096e-44aa-8cbc-8677751e7ba7",
   "metadata": {},
   "outputs": [
    {
     "data": {
      "text/plain": [
       "'READ = -6.091440E-09'"
      ]
     },
     "execution_count": 142,
     "metadata": {},
     "output_type": "execute_result"
    }
   ],
   "source": [
    "multimeter.send('READ?')"
   ]
  },
  {
   "cell_type": "code",
   "execution_count": 139,
   "id": "0a29f391-7d2f-42f6-af05-08dc079fb76e",
   "metadata": {},
   "outputs": [
    {
     "data": {
      "text/plain": [
       "'AvgC1 = -1'"
      ]
     },
     "execution_count": 139,
     "metadata": {},
     "output_type": "execute_result"
    }
   ],
   "source": [
    "oscilloscope.send('AvgC1?')"
   ]
  },
  {
   "cell_type": "code",
   "execution_count": null,
   "id": "e6b16a98-5723-4d3f-9680-d2f70b23a417",
   "metadata": {},
   "outputs": [],
   "source": [
    "import time\n",
    "while True:\n",
    "    oscilloscope.send('AvgC1C2?')\n",
    "    time.sleep(10)"
   ]
  },
  {
   "cell_type": "code",
   "execution_count": null,
   "id": "4a1d0cd0-8895-44ea-a374-e46bc078e6d1",
   "metadata": {},
   "outputs": [],
   "source": [
    "oscilloscope.send('AvgC1C2?')"
   ]
  },
  {
   "cell_type": "markdown",
   "id": "48ae8a15-bb8e-4abc-9e15-caf72155276f",
   "metadata": {},
   "source": [
    "# End"
   ]
  },
  {
   "cell_type": "code",
   "execution_count": 119,
   "id": "d607fb27-3abe-4c84-ac3f-09c42dba26bf",
   "metadata": {},
   "outputs": [],
   "source": [
    "multimeter.close()"
   ]
  },
  {
   "cell_type": "code",
   "execution_count": 143,
   "id": "278a27ef-5cf7-4067-8c89-448f30b11208",
   "metadata": {},
   "outputs": [],
   "source": [
    "oscilloscope.close()"
   ]
  },
  {
   "cell_type": "code",
   "execution_count": null,
   "id": "9c2e7678-d711-4d0d-bad5-c53aa67792b9",
   "metadata": {},
   "outputs": [],
   "source": [
    "curren monitor 1V/200 uA"
   ]
  },
  {
   "cell_type": "code",
   "execution_count": 106,
   "id": "5b7203c3-713c-4e9b-b8f6-b5c641a55a1a",
   "metadata": {},
   "outputs": [],
   "source": [
    "# 0V 'AvgC1 = -0.1116694444444444 == 0'\n",
    "# 5V 'AvgC1 = 4.531751818181818'\n",
    "# 5V 'AvgC1 = 4.54799505050505'\n",
    "# 10V 'AvgC1 = 9.625906666666666'\n",
    "# 15V 'AvgC1 = 14.703854545454547'\n",
    "# 20V 'AvgC1 = 19.64571212121212'\n",
    "# 25V 'AvgC1 = 24.445448484848484'\n",
    "# 25V 'AvgC1 = 25.5276'\n",
    "\n",
    "# 10V 'AvgC1 = 9.761406060606062'\n",
    "# 15V 'AvgC1 = 14.89851212121212'\n",
    "# 20V 'AvgC1 = 19.9631303030303'"
   ]
  }
 ],
 "metadata": {
  "kernelspec": {
   "display_name": "Python 3 (ipykernel)",
   "language": "python",
   "name": "python3"
  },
  "language_info": {
   "codemirror_mode": {
    "name": "ipython",
    "version": 3
   },
   "file_extension": ".py",
   "mimetype": "text/x-python",
   "name": "python",
   "nbconvert_exporter": "python",
   "pygments_lexer": "ipython3",
   "version": "3.9.2"
  }
 },
 "nbformat": 4,
 "nbformat_minor": 5
}
