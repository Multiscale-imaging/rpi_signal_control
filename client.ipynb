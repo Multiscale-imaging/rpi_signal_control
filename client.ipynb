{
 "cells": [
  {
   "cell_type": "code",
   "execution_count": 1,
   "id": "a6d12508-9cb8-4903-8249-65dd9e6c9b07",
   "metadata": {},
   "outputs": [
    {
     "name": "stdout",
     "output_type": "stream",
     "text": [
      "160.103.26.51\n"
     ]
    }
   ],
   "source": [
    "import socket\n",
    "import numpy as np\n",
    "import serverBackend as sb\n",
    "ip = sb.get_ip() #\"127.0.0.1\"\n",
    "print(ip)\n",
    "class sender:\n",
    "    def __init__(self,TCP_IP = ip, TCP_PORT = 5006):\n",
    "        self.s = socket.socket(socket.AF_INET, socket.SOCK_STREAM)\n",
    "        self.s.connect((TCP_IP, TCP_PORT))\n",
    "        \n",
    "\n",
    "    def send(self,key, BUFFER_SIZE = 1024):\n",
    "        '''\n",
    "        sends data to the server\n",
    "        this funciton interacts with the server in the same way as the beamline interacts with motors\n",
    "        '''\n",
    "        self.s.send(str(key).encode())\n",
    "        data = self.s.recv(BUFFER_SIZE).decode()\n",
    "        return data\n",
    "    def close(self):\n",
    "        self.s.close()"
   ]
  },
  {
   "cell_type": "code",
   "execution_count": 2,
   "id": "57b066ba-2f6d-4a98-b09e-8b04f8a7c2c5",
   "metadata": {},
   "outputs": [],
   "source": [
    "multimeter = sender(TCP_PORT = 5008)"
   ]
  },
  {
   "cell_type": "code",
   "execution_count": 3,
   "id": "51a31d5c-1c0d-4710-b2cd-0d06983b4350",
   "metadata": {},
   "outputs": [],
   "source": [
    "oscilloscope = sender(TCP_PORT = 5007)"
   ]
  },
  {
   "cell_type": "markdown",
   "id": "293ecfc5-6b75-4418-bb2f-e94ce219e22a",
   "metadata": {
    "tags": []
   },
   "source": [
    "# Do stuff"
   ]
  },
  {
   "cell_type": "code",
   "execution_count": 4,
   "id": "995e3b36-096e-44aa-8cbc-8677751e7ba7",
   "metadata": {},
   "outputs": [
    {
     "data": {
      "text/plain": [
       "'READ = -6.843599E-09'"
      ]
     },
     "execution_count": 4,
     "metadata": {},
     "output_type": "execute_result"
    }
   ],
   "source": [
    "multimeter.send('READ?')"
   ]
  },
  {
   "cell_type": "code",
   "execution_count": 5,
   "id": "0a29f391-7d2f-42f6-af05-08dc079fb76e",
   "metadata": {},
   "outputs": [
    {
     "data": {
      "text/plain": [
       "'AvgC1 = -0.0023328151515151514'"
      ]
     },
     "execution_count": 5,
     "metadata": {},
     "output_type": "execute_result"
    }
   ],
   "source": [
    "oscilloscope.send('AvgC1?')"
   ]
  },
  {
   "cell_type": "code",
   "execution_count": 6,
   "id": "4a1d0cd0-8895-44ea-a374-e46bc078e6d1",
   "metadata": {},
   "outputs": [
    {
     "data": {
      "text/plain": [
       "'AvgC2 = -5.197705050505051e-06'"
      ]
     },
     "execution_count": 6,
     "metadata": {},
     "output_type": "execute_result"
    }
   ],
   "source": [
    "oscilloscope.send('AvgC2?')"
   ]
  },
  {
   "cell_type": "markdown",
   "id": "48ae8a15-bb8e-4abc-9e15-caf72155276f",
   "metadata": {},
   "source": [
    "# End"
   ]
  },
  {
   "cell_type": "code",
   "execution_count": 4,
   "id": "d607fb27-3abe-4c84-ac3f-09c42dba26bf",
   "metadata": {},
   "outputs": [],
   "source": [
    "multimeter.close()"
   ]
  },
  {
   "cell_type": "code",
   "execution_count": 14,
   "id": "278a27ef-5cf7-4067-8c89-448f30b11208",
   "metadata": {},
   "outputs": [],
   "source": [
    "oscilloscope.close()"
   ]
  }
 ],
 "metadata": {
  "kernelspec": {
   "display_name": "Python 3 (ipykernel)",
   "language": "python",
   "name": "python3"
  },
  "language_info": {
   "codemirror_mode": {
    "name": "ipython",
    "version": 3
   },
   "file_extension": ".py",
   "mimetype": "text/x-python",
   "name": "python",
   "nbconvert_exporter": "python",
   "pygments_lexer": "ipython3",
   "version": "3.9.2"
  }
 },
 "nbformat": 4,
 "nbformat_minor": 5
}
