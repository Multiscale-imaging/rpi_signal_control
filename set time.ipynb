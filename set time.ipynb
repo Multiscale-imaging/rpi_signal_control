{
 "cells": [
  {
   "cell_type": "markdown",
   "id": "371efbc2-33cd-41d3-81d0-b2ece4cde2de",
   "metadata": {},
   "source": [
    "# This notebook is to set the time manually on the rpi"
   ]
  },
  {
   "cell_type": "code",
   "execution_count": 5,
   "id": "32bf145b-277f-4786-a766-3a24cbc6e99c",
   "metadata": {},
   "outputs": [
    {
     "name": "stdout",
     "output_type": "stream",
     "text": [
      "b'               Local time: Thu 2022-05-26 15:07:29 CEST\n",
      "           Universal time: Thu 2022-05-26 13:07:29 UTC\n",
      "                 RTC time: n/a\n",
      "                Time zone: Europe/Copenhagen (CEST, +0200)\n",
      "System clock synchronized: no\n",
      "              NTP service: inactive\n",
      "          RTC in local TZ: no\n",
      "'\n"
     ]
    }
   ],
   "source": [
    "import subprocess\n",
    "# check current time\n",
    "dt = str(subprocess.check_output(['timedatectl', 'status'])).split('\\\\n')\n",
    "for d in dt:\n",
    "    print(d)"
   ]
  },
  {
   "cell_type": "code",
   "execution_count": 2,
   "id": "432d23db-40b5-41cc-9133-dae23506315c",
   "metadata": {},
   "outputs": [
    {
     "name": "stdout",
     "output_type": "stream",
     "text": [
      "b'               Local time: Tue 2022-05-24 14:05:30 CEST\n",
      "           Universal time: Tue 2022-05-24 12:05:30 UTC\n",
      "                 RTC time: n/a\n",
      "                Time zone: Europe/Copenhagen (CEST, +0200)\n",
      "System clock synchronized: no\n",
      "              NTP service: inactive\n",
      "          RTC in local TZ: no\n",
      "'\n"
     ]
    }
   ],
   "source": [
    "# disable automatic time\n",
    "subprocess.check_output(['sudo','timedatectl','set-ntp','false'])\n",
    "# set time\n",
    "datetime = '2022-05-24 14:05:30'\n",
    "subprocess.check_output(['sudo','date','-s',f'{datetime}'])\n",
    "# check current time\n",
    "dt = str(subprocess.check_output(['timedatectl', 'status'])).split('\\\\n')\n",
    "for d in dt:\n",
    "    print(d)"
   ]
  },
  {
   "cell_type": "code",
   "execution_count": 25,
   "id": "91755ade-640c-4132-bf4b-370481ac8d44",
   "metadata": {},
   "outputs": [
    {
     "name": "stdout",
     "output_type": "stream",
     "text": [
      "b'               Local time: Thu 2022-05-19 10:37:32 CEST\n",
      "           Universal time: Thu 2022-05-19 08:37:32 UTC\n",
      "                 RTC time: n/a\n",
      "                Time zone: Europe/Copenhagen (CEST, +0200)\n",
      "System clock synchronized: no\n",
      "              NTP service: active\n",
      "          RTC in local TZ: no\n",
      "'\n"
     ]
    }
   ],
   "source": [
    "# to enable automatic time:\n",
    "subprocess.check_output(['sudo','timedatectl','set-ntp','true'])\n",
    "dt = str(subprocess.check_output(['timedatectl', 'status'])).split('\\\\n')\n",
    "for d in dt:\n",
    "    print(d)"
   ]
  },
  {
   "cell_type": "code",
   "execution_count": null,
   "id": "082709c1-6754-496e-a6b4-592863ed6e15",
   "metadata": {},
   "outputs": [],
   "source": []
  }
 ],
 "metadata": {
  "kernelspec": {
   "display_name": "Python 3 (ipykernel)",
   "language": "python",
   "name": "python3"
  },
  "language_info": {
   "codemirror_mode": {
    "name": "ipython",
    "version": 3
   },
   "file_extension": ".py",
   "mimetype": "text/x-python",
   "name": "python",
   "nbconvert_exporter": "python",
   "pygments_lexer": "ipython3",
   "version": "3.9.2"
  }
 },
 "nbformat": 4,
 "nbformat_minor": 5
}
