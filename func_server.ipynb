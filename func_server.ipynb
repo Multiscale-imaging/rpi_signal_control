{
 "cells": [
  {
   "cell_type": "code",
   "execution_count": 2,
   "id": "afd546f0-13de-4ce8-9cc0-20c93d0de4f5",
   "metadata": {},
   "outputs": [],
   "source": [
    "#!/usr/bin/env python\n",
    "import socket\n",
    "import time\n",
    "import pyvisa"
   ]
  },
  {
   "cell_type": "code",
   "execution_count": 3,
   "id": "2f588ddc-f8a4-4dcf-aa7f-68756b22b763",
   "metadata": {},
   "outputs": [],
   "source": [
    "'''\n",
    "Communication with signal generator\n",
    "'''\n",
    "# pip install pyvisa, pyvisa-py\n",
    "# sudo echo 'SUBSYSTEM==\"usb\", MODE=\"0666\", GROUP=\"usbusers\"' >> /etc/udev/rules.d/99-com.rules\n",
    "# sudo usermod -a -G tty trygvrad\n",
    "\n",
    "rm = pyvisa.ResourceManager()\n",
    "rm.list_resources('?*')\n",
    "#inst = rm.open_resource('USB0::1027::60786::100031819913::0::RAW')\n",
    "inst = rm.open_resource('ASRL/dev/ttyUSB0::INSTR')\n",
    "#inst.write('*RST')"
   ]
  },
  {
   "cell_type": "code",
   "execution_count": 4,
   "id": "4b413cce-b436-4060-aea1-a48e65738cd4",
   "metadata": {},
   "outputs": [
    {
     "data": {
      "text/plain": [
       "'HAMEG,HMF2525,037857418,HW90000000,SW02.301'"
      ]
     },
     "execution_count": 4,
     "metadata": {},
     "output_type": "execute_result"
    }
   ],
   "source": [
    "'''\n",
    "set up backend\n",
    "'''\n",
    "import importlib\n",
    "import serverBackend as sb\n",
    "importlib.reload(sb)\n",
    "\n",
    "#add the commands we want to use - see manual\n",
    "HMF2525_keys = [\n",
    "    'FUNC',\n",
    "    'OUTPut',\n",
    "    'FREQuency',\n",
    "    'PERiod',\n",
    "    'VOLTage',\n",
    "    'VOLTage:UNIT',\n",
    "    'VOLTage:HIGH',\n",
    "    'VOLTage:LOW',\n",
    "    'VOLTage:OFFSet',\n",
    "    'FUNCtion:PULSe:WIDTh:HIGH',\n",
    "    'FUNCtion:PULSe:WIDTh:LOW',\n",
    "    'FUNCtion:PULSe:DCYCle',\n",
    "    'FUNCtion:PULSe:ETIMe',\n",
    "    'TRIGger:SOURce',# {IMMediate | EXTernal}\n",
    "    'BURSt:MODE',# TRIGgered | GATed\n",
    "    'BURSt:NCYCles',\n",
    "    'BURSt:INTernal:PERiod',\n",
    "    'BURSt:PHASe', #0 to 360\n",
    "    'BURSt:STATe',\n",
    "    ]\n",
    "\n",
    "\n",
    "sb.setup(inst, HMF2525_keys)\n",
    "\n",
    "sb.query('*IDN?')"
   ]
  },
  {
   "cell_type": "code",
   "execution_count": null,
   "id": "97d2e9d8-1942-4933-a27e-720067972309",
   "metadata": {},
   "outputs": [
    {
     "name": "stdout",
     "output_type": "stream",
     "text": [
      "server started and listening\n",
      "Current Time = 04:32:20\n",
      "   set  VOLTage: 2.0\n",
      "Current Time = 04:32:24\n",
      "   set  OUTPut: ON\n"
     ]
    }
   ],
   "source": [
    "serversocket = socket.socket(socket.AF_INET, socket.SOCK_STREAM)\n",
    "host = sb.get_ip() #\"127.0.0.1\"\n",
    "port = 5006\n",
    "serversocket.bind((host, port))\n",
    "serversocket.listen(5)\n",
    "print ('server started and listening')\n",
    "while 1:\n",
    "    clientsocket, address = serversocket.accept()\n",
    "    sb.server(clientsocket, address)"
   ]
  },
  {
   "cell_type": "code",
   "execution_count": null,
   "id": "d8b27720-780e-4d04-8291-aa37a2a3409b",
   "metadata": {},
   "outputs": [],
   "source": []
  },
  {
   "cell_type": "code",
   "execution_count": 5,
   "id": "73ac667a-afda-4613-b49a-4b46f22d8052",
   "metadata": {},
   "outputs": [
    {
     "data": {
      "text/plain": [
       "8"
      ]
     },
     "execution_count": 5,
     "metadata": {},
     "output_type": "execute_result"
    }
   ],
   "source": []
  },
  {
   "cell_type": "code",
   "execution_count": null,
   "id": "1096b96c-d206-4751-a8ce-25902dd765fa",
   "metadata": {},
   "outputs": [],
   "source": []
  }
 ],
 "metadata": {
  "kernelspec": {
   "display_name": "Python 3 (ipykernel)",
   "language": "python",
   "name": "python3"
  },
  "language_info": {
   "codemirror_mode": {
    "name": "ipython",
    "version": 3
   },
   "file_extension": ".py",
   "mimetype": "text/x-python",
   "name": "python",
   "nbconvert_exporter": "python",
   "pygments_lexer": "ipython3",
   "version": "3.9.2"
  }
 },
 "nbformat": 4,
 "nbformat_minor": 5
}
