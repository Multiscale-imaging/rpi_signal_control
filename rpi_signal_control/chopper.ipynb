{
 "cells": [
  {
   "cell_type": "code",
   "execution_count": 27,
   "id": "88e0c89c-1395-49d0-92b1-b57381df101e",
   "metadata": {},
   "outputs": [],
   "source": [
    "#trygvrad@Appa:~$ python3 -m pip install thorlabs_mc2000b\n",
    "# sudo usermod -a -G tty trygvrad\n",
    "# sudo adduser trygvrad dialout\n",
    "from thorlabs_mc2000b import MC2000B, Blade"
   ]
  },
  {
   "cell_type": "code",
   "execution_count": 28,
   "id": "a7712f64-d718-4868-9fc6-1d8288eabc84",
   "metadata": {},
   "outputs": [],
   "source": [
    "#chopper = MC2000B()\n",
    "#print(chopper.get_blade_string())"
   ]
  },
  {
   "cell_type": "code",
   "execution_count": 29,
   "id": "a30c8906-2597-4b23-a408-b4e9c35fa634",
   "metadata": {},
   "outputs": [],
   "source": [
    "import serial\n",
    "from serial.tools import list_ports, list_ports_common\n",
    "import re\n",
    "def find_device(serial_number=\"\"):\n",
    "    \"\"\"\n",
    "    Search attached serial ports for a Thorlabs MC2000B.\n",
    "\n",
    "    The first device found will be returned.\n",
    "    If multiple choppers are attached to the system, the ``serial_number`` parameter may be used\n",
    "    to select the correct device. This is a regular expression match, for example\n",
    "    ``serial_number=\"21\"`` would match devices with serial numbers starting with 21, while\n",
    "    ``serial_number=\".*21$\"`` would match devices ending in 21.\n",
    "\n",
    "    :param serial_number: Regular expression to match a device serial number.\n",
    "    \"\"\"\n",
    "    for p in serial.tools.list_ports.comports():\n",
    "        # If manufacturer and product fields exist, try to use them\n",
    "        # We require a match on serial number though\n",
    "        print(p.manufacturer,p.product)\n",
    "        if (p.manufacturer in (\"Thorlabs\", \"FTDI\")\n",
    "            #and (p.product == \"MC2000\" if p.product else True)\n",
    "            and (re.match(serial_number, p.serial_number) if p.serial_number else False)):\n",
    "            print('found ->',p)\n",
    "            return p\n"
   ]
  },
  {
   "cell_type": "code",
   "execution_count": null,
   "id": "59ba3493-72b3-4fd5-8562-6014a9967725",
   "metadata": {},
   "outputs": [],
   "source": []
  },
  {
   "cell_type": "code",
   "execution_count": 30,
   "id": "d9aa319d-db0f-4987-840c-a814fde4c885",
   "metadata": {},
   "outputs": [
    {
     "name": "stdout",
     "output_type": "stream",
     "text": [
      "Thorlabs MC2000 Optical Chopper\n",
      "found -> /dev/ttyUSB2 - MC2000 Optical Chopper - MC2000 Optical Chopper\n"
     ]
    }
   ],
   "source": [
    "chopper = MC2000B(serial_port = find_device())"
   ]
  },
  {
   "cell_type": "code",
   "execution_count": 31,
   "id": "e7f0fa53-c32a-40e5-ae07-0134834e397c",
   "metadata": {},
   "outputs": [
    {
     "name": "stdout",
     "output_type": "stream",
     "text": [
      "MC1F10\n"
     ]
    }
   ],
   "source": [
    "print(chopper.get_blade_string())"
   ]
  },
  {
   "cell_type": "code",
   "execution_count": 32,
   "id": "8eafc830-c481-4776-9d1c-8ed7a2a89b12",
   "metadata": {},
   "outputs": [],
   "source": [
    "chopper.enable = True"
   ]
  },
  {
   "cell_type": "code",
   "execution_count": 33,
   "id": "b2ef2808-be02-434f-8e9e-4983589f6768",
   "metadata": {},
   "outputs": [
    {
     "name": "stdout",
     "output_type": "stream",
     "text": [
      "10\n"
     ]
    }
   ],
   "source": [
    "print(chopper.phase)"
   ]
  },
  {
   "cell_type": "code",
   "execution_count": 35,
   "id": "8b67144b-078d-476f-8ae5-0bff9b959966",
   "metadata": {},
   "outputs": [],
   "source": [
    "setattr(chopper,'phase',20)"
   ]
  },
  {
   "cell_type": "code",
   "execution_count": null,
   "id": "a2de6709-3788-4837-948d-bef484b38d47",
   "metadata": {},
   "outputs": [],
   "source": []
  }
 ],
 "metadata": {
  "kernelspec": {
   "display_name": "Python 3",
   "language": "python",
   "name": "python3"
  },
  "language_info": {
   "codemirror_mode": {
    "name": "ipython",
    "version": 3
   },
   "file_extension": ".py",
   "mimetype": "text/x-python",
   "name": "python",
   "nbconvert_exporter": "python",
   "pygments_lexer": "ipython3",
   "version": "3.8.5"
  }
 },
 "nbformat": 4,
 "nbformat_minor": 5
}
