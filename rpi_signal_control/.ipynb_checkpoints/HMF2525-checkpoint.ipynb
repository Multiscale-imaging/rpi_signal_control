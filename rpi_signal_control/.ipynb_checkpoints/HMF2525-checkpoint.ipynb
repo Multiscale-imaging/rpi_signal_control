{
 "cells": [
  {
   "cell_type": "code",
   "execution_count": 3,
   "id": "5f0eeea8-56ad-459a-b516-6488e0c9f270",
   "metadata": {},
   "outputs": [],
   "source": [
    "import pyvisa\n",
    "# pip install pyvisa, pyvisa-py\n",
    "#sudo echo 'SUBSYSTEM==\"usb\", MODE=\"0666\", GROUP=\"usbusers\"' >> /etc/udev/rules.d/99-com.rules"
   ]
  },
  {
   "cell_type": "code",
   "execution_count": 4,
   "id": "b9be07c7-88bd-40c1-a2d5-50db891bd4db",
   "metadata": {},
   "outputs": [],
   "source": [
    "rm = pyvisa.ResourceManager()"
   ]
  },
  {
   "cell_type": "code",
   "execution_count": 5,
   "id": "2ffa2a5a-014b-4ff1-8329-1b301c63a3a9",
   "metadata": {},
   "outputs": [
    {
     "data": {
      "text/plain": [
       "('ASRL/dev/ttyUSB1::INSTR',\n",
       " 'ASRL/dev/ttyUSB0::INSTR',\n",
       " 'USB0::1027::24577::140115-10::0::RAW',\n",
       " 'USB0::1027::60786::100031819913::0::RAW')"
      ]
     },
     "execution_count": 5,
     "metadata": {},
     "output_type": "execute_result"
    }
   ],
   "source": [
    "rm.list_resources('?*')"
   ]
  },
  {
   "cell_type": "code",
   "execution_count": 6,
   "id": "ff0a93c2-9874-4c16-954e-0d38fc355437",
   "metadata": {},
   "outputs": [],
   "source": [
    "inst = rm.open_resource('USB0::1027::60786::100031819913::0::RAW')"
   ]
  },
  {
   "cell_type": "code",
   "execution_count": 7,
   "id": "509fb2a9-728d-444a-8cf4-28c988f411e9",
   "metadata": {},
   "outputs": [
    {
     "name": "stdout",
     "output_type": "stream",
     "text": [
      "0.0\n"
     ]
    },
    {
     "data": {
      "text/plain": [
       "10"
      ]
     },
     "execution_count": 7,
     "metadata": {},
     "output_type": "execute_result"
    }
   ],
   "source": [
    "inst.read_termination = '\\n'\n",
    "inst.write_termination = '\\n'\n",
    "print(inst.query_delay)\n",
    "inst.write('INIT;*WAI')\n"
   ]
  },
  {
   "cell_type": "code",
   "execution_count": 8,
   "id": "9f6c2a67-87c2-4f53-9035-ac3f272b150e",
   "metadata": {},
   "outputs": [
    {
     "data": {
      "text/plain": [
       "5"
      ]
     },
     "execution_count": 8,
     "metadata": {},
     "output_type": "execute_result"
    }
   ],
   "source": [
    "inst.write('*OPC')"
   ]
  },
  {
   "cell_type": "code",
   "execution_count": 9,
   "id": "acc8dd98-e898-4227-a8a9-0a9e132e4713",
   "metadata": {},
   "outputs": [],
   "source": [
    "if 0:\n",
    "    while True:\n",
    "        print(inst.read_bytes(1))"
   ]
  },
  {
   "cell_type": "code",
   "execution_count": 10,
   "id": "b62bd99f-d970-4bd2-b4b9-8dc3b90b1fe1",
   "metadata": {},
   "outputs": [
    {
     "name": "stdout",
     "output_type": "stream",
     "text": [
      "\\xff161\n"
     ]
    }
   ],
   "source": [
    "def query(query = '*ESR?'):\n",
    "    inst.write(query)\n",
    "    out =''\n",
    "    while True:\n",
    "        line = inst.read_bytes(1)\n",
    "        #print(line)\n",
    "        if line == b'1`':\n",
    "            if len(out)>0:\n",
    "                break\n",
    "            continue\n",
    "        out += str(line)[4:-3]\n",
    "        if b'\\n' in line:\n",
    "            break\n",
    "    return out\n",
    "print(query())"
   ]
  },
  {
   "cell_type": "code",
   "execution_count": 11,
   "id": "bf2f9b71-6f44-4d12-8113-1feb690e6ec6",
   "metadata": {},
   "outputs": [
    {
     "data": {
      "text/plain": [
       "'PULS'"
      ]
     },
     "execution_count": 11,
     "metadata": {},
     "output_type": "execute_result"
    }
   ],
   "source": [
    "inst.write('FUNC PULS')\n",
    "#FUNCtion {SINusoid | SQUare | RAMP | PULSe | ARBitrary}\n",
    "query('FUNC?')"
   ]
  },
  {
   "cell_type": "code",
   "execution_count": 12,
   "id": "4e195f37-67ad-45a5-8f22-285cedca3229",
   "metadata": {},
   "outputs": [],
   "source": [
    "keys = [\n",
    "    'FREQuency',\n",
    "    'PERiod',\n",
    "    'VOLTage',\n",
    "    'VOLTage:UNIT',\n",
    "    'VOLTage:HIGH',\n",
    "    'VOLTage:LOW',\n",
    "    'VOLTage:OFFSet',\n",
    "    'FUNCtion:PULSe:WIDTh:HIGH',\n",
    "    'FUNCtion:PULSe:WIDTh:LOW',\n",
    "    'FUNCtion:PULSe:DCYCle',\n",
    "    'FUNCtion:PULSe:ETIMe',\n",
    "    'TRIGger:SOURce',# {IMMediate | EXTernal}\n",
    "    \n",
    "    'BURSt:MODE',# TRIGgered | GATed\n",
    "    'BURSt:NCYCles',\n",
    "    'BURSt:INTernal:PERiod',\n",
    "    'BURSt:PHASe', #0 to 360\n",
    "    'BURSt:STATe',\n",
    "\n",
    "    ]\n",
    "def get_params():\n",
    "    parameters = {}\n",
    "    for key in keys:\n",
    "        parameters[key] = query(key+'?')\n",
    "    return parameters\n",
    "import time\n",
    "def set_params(parameters):\n",
    "    for key in parameters.keys():\n",
    "        time.sleep(0.1)\n",
    "        inst.write(key+' '+str(parameters[key]))"
   ]
  },
  {
   "cell_type": "code",
   "execution_count": 13,
   "id": "775ab825-35a1-4345-9bae-211fee79f995",
   "metadata": {},
   "outputs": [
    {
     "name": "stdout",
     "output_type": "stream",
     "text": [
      "FREQuency 1.000000E+00\n",
      "PERiod 1.000000E+00\n",
      "VOLTage 6.000E-01\n",
      "VOLTage:UNIT VOLT\n",
      "VOLTage:HIGH 6.000E-01\n",
      "VOLTage:LOW 0.0E+00\n",
      "VOLTage:OFFSet 0.0E+00\n",
      "FUNCtion:PULSe:WIDTh:HIGH 3.000000E-04\n",
      "FUNCtion:PULSe:WIDTh:LOW 9.997000E-01\n",
      "FUNCtion:PULSe:DCYCle 3.000000E-02\n",
      "FUNCtion:PULSe:ETIMe 8.0E-09\n",
      "TRIGger:SOURce EXT\n",
      "BURSt:MODE TRIG\n",
      "BURSt:NCYCles 1.0E+00\n",
      "BURSt:INTernal:PERiod 1.000001E+00\n",
      "BURSt:PHASe 0.0E+00\n",
      "BURSt:STATe ON\n"
     ]
    }
   ],
   "source": [
    "parameters = {}\n",
    "parameters['FREQuency'] = '1'\n",
    "parameters['VOLTage:HIGH'] = '0.6'\n",
    "parameters['VOLTage:LOW'] = '0'\n",
    "parameters['FUNCtion:PULSe:WIDTh:HIGH'] = 3.000000E-04\n",
    "set_params(parameters)\n",
    "parameters = get_params()\n",
    "for key in parameters.keys():\n",
    "    print(key, parameters[key])"
   ]
  },
  {
   "cell_type": "code",
   "execution_count": 15,
   "id": "903ab3cb-4639-4041-9eda-4eb7cd02aad6",
   "metadata": {},
   "outputs": [
    {
     "data": {
      "text/plain": [
       "\"{'FREQuency': '1.000000E+00', 'PERiod': '1.000000E+00', 'VOLTage': '6.000E-01', 'VOLTage:UNIT': 'VOLT', 'VOLTage:HIGH': '6.000E-01', 'VOLTage:LOW': '0.0E+00', 'VOLTage:OFFSet': '0.0E+00', 'FUNCtion:PULSe:WIDTh:HIGH': '3.000000E-04', 'FUNCtion:PULSe:WIDTh:LOW': '9.997000E-01', 'FUNCtion:PULSe:DCYCle': '3.000000E-02', 'FUNCtion:PULSe:ETIMe': '8.0E-09', 'TRIGger:SOURce': 'EXT', 'BURSt:MODE': 'TRIG', 'BURSt:NCYCles': '1.0E+00', 'BURSt:INTernal:PERiod': '1.000001E+00', 'BURSt:PHASe': '0.0E+00', 'BURSt:STATe': 'ON'}\""
      ]
     },
     "execution_count": 15,
     "metadata": {},
     "output_type": "execute_result"
    }
   ],
   "source": [
    "str(parameters)"
   ]
  },
  {
   "cell_type": "code",
   "execution_count": null,
   "id": "585997df-4c42-4313-8aa1-f4e339872304",
   "metadata": {},
   "outputs": [],
   "source": [
    "\n"
   ]
  },
  {
   "cell_type": "code",
   "execution_count": null,
   "id": "537e0a82-4ed7-4e09-aa53-6e865bbf08dc",
   "metadata": {},
   "outputs": [],
   "source": []
  },
  {
   "cell_type": "code",
   "execution_count": null,
   "id": "e1585254-2da8-49ee-a4d1-ced8e5c1ea1d",
   "metadata": {},
   "outputs": [],
   "source": []
  },
  {
   "cell_type": "code",
   "execution_count": null,
   "id": "14434b97-f016-4d39-a3a9-407109442d19",
   "metadata": {},
   "outputs": [],
   "source": []
  },
  {
   "cell_type": "code",
   "execution_count": null,
   "id": "ba00be5c-95aa-4356-bfea-36042b16e149",
   "metadata": {},
   "outputs": [],
   "source": []
  },
  {
   "cell_type": "code",
   "execution_count": null,
   "id": "5dc60781-82a4-442a-96fd-7d89b0318a18",
   "metadata": {},
   "outputs": [],
   "source": []
  },
  {
   "cell_type": "code",
   "execution_count": null,
   "id": "9db10923-29b1-4f88-88f5-a1e8ebbf114d",
   "metadata": {},
   "outputs": [],
   "source": [
    "\n"
   ]
  },
  {
   "cell_type": "code",
   "execution_count": null,
   "id": "e5fe6d4a-f474-4715-a3d4-d461e46aeede",
   "metadata": {},
   "outputs": [],
   "source": []
  },
  {
   "cell_type": "code",
   "execution_count": null,
   "id": "4c5cf0b4-e288-44df-81f9-6e92c2a14061",
   "metadata": {},
   "outputs": [],
   "source": []
  }
 ],
 "metadata": {
  "kernelspec": {
   "display_name": "Python 3",
   "language": "python",
   "name": "python3"
  },
  "language_info": {
   "codemirror_mode": {
    "name": "ipython",
    "version": 3
   },
   "file_extension": ".py",
   "mimetype": "text/x-python",
   "name": "python",
   "nbconvert_exporter": "python",
   "pygments_lexer": "ipython3",
   "version": "3.8.5"
  }
 },
 "nbformat": 4,
 "nbformat_minor": 5
}
