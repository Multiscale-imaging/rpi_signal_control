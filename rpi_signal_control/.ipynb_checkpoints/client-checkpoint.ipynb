{
 "cells": [
  {
   "cell_type": "code",
   "execution_count": 1,
   "id": "a6d12508-9cb8-4903-8249-65dd9e6c9b07",
   "metadata": {},
   "outputs": [],
   "source": [
    "import socket\n",
    "def send(key,TCP_IP = '127.0.0.1', TCP_PORT = 5006, BUFFER_SIZE = 1024):\n",
    "    '''\n",
    "    sends data to the server\n",
    "    this funciton interacts with the server in the same way as the beamline interacts with motors\n",
    "    '''\n",
    "    s = socket.socket(socket.AF_INET, socket.SOCK_STREAM)\n",
    "    s.connect((TCP_IP, TCP_PORT))\n",
    "    s.send(str(key).encode())\n",
    "    data = s.recv(BUFFER_SIZE).decode()\n",
    "    s.close()\n",
    "    return data"
   ]
  },
  {
   "cell_type": "code",
   "execution_count": 2,
   "id": "faa8d727-ae3e-4aa9-90ab-e7b7e61161ec",
   "metadata": {},
   "outputs": [
    {
     "ename": "ConnectionRefusedError",
     "evalue": "[Errno 111] Connection refused",
     "output_type": "error",
     "traceback": [
      "\u001b[0;31m---------------------------------------------------------------------------\u001b[0m",
      "\u001b[0;31mConnectionRefusedError\u001b[0m                    Traceback (most recent call last)",
      "\u001b[0;32m/tmp/ipykernel_21641/2260921185.py\u001b[0m in \u001b[0;36m<module>\u001b[0;34m\u001b[0m\n\u001b[1;32m      2\u001b[0m \u001b[0mtest\u001b[0m\u001b[0;34m,\u001b[0m \u001b[0mshould\u001b[0m \u001b[0;32mreturn\u001b[0m \u001b[0mOUTPut\u001b[0m \u001b[0;34m=\u001b[0m \u001b[0mOFF\u001b[0m\u001b[0;34m\u001b[0m\u001b[0;34m\u001b[0m\u001b[0m\n\u001b[1;32m      3\u001b[0m '''\n\u001b[0;32m----> 4\u001b[0;31m \u001b[0mdata\u001b[0m \u001b[0;34m=\u001b[0m \u001b[0msend\u001b[0m\u001b[0;34m(\u001b[0m\u001b[0;34m'OUTPut = OFF'\u001b[0m\u001b[0;34m)\u001b[0m\u001b[0;34m\u001b[0m\u001b[0;34m\u001b[0m\u001b[0m\n\u001b[0m\u001b[1;32m      5\u001b[0m \u001b[0mprint\u001b[0m\u001b[0;34m(\u001b[0m\u001b[0mdata\u001b[0m\u001b[0;34m)\u001b[0m\u001b[0;34m\u001b[0m\u001b[0;34m\u001b[0m\u001b[0m\n",
      "\u001b[0;32m/tmp/ipykernel_21641/2305598299.py\u001b[0m in \u001b[0;36msend\u001b[0;34m(key, TCP_IP, TCP_PORT, BUFFER_SIZE)\u001b[0m\n\u001b[1;32m      6\u001b[0m     '''\n\u001b[1;32m      7\u001b[0m     \u001b[0ms\u001b[0m \u001b[0;34m=\u001b[0m \u001b[0msocket\u001b[0m\u001b[0;34m.\u001b[0m\u001b[0msocket\u001b[0m\u001b[0;34m(\u001b[0m\u001b[0msocket\u001b[0m\u001b[0;34m.\u001b[0m\u001b[0mAF_INET\u001b[0m\u001b[0;34m,\u001b[0m \u001b[0msocket\u001b[0m\u001b[0;34m.\u001b[0m\u001b[0mSOCK_STREAM\u001b[0m\u001b[0;34m)\u001b[0m\u001b[0;34m\u001b[0m\u001b[0;34m\u001b[0m\u001b[0m\n\u001b[0;32m----> 8\u001b[0;31m     \u001b[0ms\u001b[0m\u001b[0;34m.\u001b[0m\u001b[0mconnect\u001b[0m\u001b[0;34m(\u001b[0m\u001b[0;34m(\u001b[0m\u001b[0mTCP_IP\u001b[0m\u001b[0;34m,\u001b[0m \u001b[0mTCP_PORT\u001b[0m\u001b[0;34m)\u001b[0m\u001b[0;34m)\u001b[0m\u001b[0;34m\u001b[0m\u001b[0;34m\u001b[0m\u001b[0m\n\u001b[0m\u001b[1;32m      9\u001b[0m     \u001b[0ms\u001b[0m\u001b[0;34m.\u001b[0m\u001b[0msend\u001b[0m\u001b[0;34m(\u001b[0m\u001b[0mstr\u001b[0m\u001b[0;34m(\u001b[0m\u001b[0mkey\u001b[0m\u001b[0;34m)\u001b[0m\u001b[0;34m.\u001b[0m\u001b[0mencode\u001b[0m\u001b[0;34m(\u001b[0m\u001b[0;34m)\u001b[0m\u001b[0;34m)\u001b[0m\u001b[0;34m\u001b[0m\u001b[0;34m\u001b[0m\u001b[0m\n\u001b[1;32m     10\u001b[0m     \u001b[0mdata\u001b[0m \u001b[0;34m=\u001b[0m \u001b[0ms\u001b[0m\u001b[0;34m.\u001b[0m\u001b[0mrecv\u001b[0m\u001b[0;34m(\u001b[0m\u001b[0mBUFFER_SIZE\u001b[0m\u001b[0;34m)\u001b[0m\u001b[0;34m.\u001b[0m\u001b[0mdecode\u001b[0m\u001b[0;34m(\u001b[0m\u001b[0;34m)\u001b[0m\u001b[0;34m\u001b[0m\u001b[0;34m\u001b[0m\u001b[0m\n",
      "\u001b[0;31mConnectionRefusedError\u001b[0m: [Errno 111] Connection refused"
     ]
    }
   ],
   "source": [
    "'''\n",
    "test, should return OUTPut = OFF\n",
    "'''\n",
    "data = send('OUTPut = OFF')\n",
    "print(data)"
   ]
  },
  {
   "cell_type": "code",
   "execution_count": 3,
   "id": "cb868590-f60e-4f60-8cb6-2f27d680ffba",
   "metadata": {},
   "outputs": [],
   "source": [
    "#!/usr/bin/env python\n",
    "'''\n",
    "our default setup on the signal generator:\n",
    "'''\n",
    "parameters = {'FREQuency': '1.000000E+00', \n",
    "        'PERiod': '1.000000E+00', \n",
    "        'VOLTage': '6.000E-01', \n",
    "        'VOLTage:UNIT': 'VOLT', \n",
    "        'VOLTage:HIGH': '6.000E-01', \n",
    "        'VOLTage:LOW': '0.0E+00', \n",
    "        'VOLTage:OFFSet': '0.0E+00', \n",
    "        'FUNCtion:PULSe:WIDTh:HIGH': '3.000000E-04', \n",
    "        'FUNCtion:PULSe:WIDTh:LOW': '9.997000E-01', \n",
    "        'FUNCtion:PULSe:DCYCle': '3.000000E-02', \n",
    "        'FUNCtion:PULSe:ETIMe': '8.0E-09', \n",
    "        'TRIGger:SOURce': 'EXT', \n",
    "        'BURSt:MODE': 'TRIG', \n",
    "        'BURSt:NCYCles': '1.0E+00', \n",
    "        'BURSt:INTernal:PERiod': '1.000001E+00', \n",
    "        'BURSt:PHASe': '0.0E+00', \n",
    "        'BURSt:STATe': 'ON'}\n",
    "\n",
    "def set_params(parameters, TCP_IP = '127.0.0.1', TCP_PORT = 5006, BUFFER_SIZE = 1024):\n",
    "    '''\n",
    "    sets multiple parameters input as a dictionary (?)\n",
    "    this is a function we can use, and I don't think the beamline has any equivalent\n",
    "    '''\n",
    "    s = socket.socket(socket.AF_INET, socket.SOCK_STREAM)\n",
    "    s.connect((TCP_IP, TCP_PORT))\n",
    "    s.send(str(parameters).encode())\n",
    "    s.close()\n",
    "\n",
    "def get_params(TCP_IP = '127.0.0.1', TCP_PORT = 5006, BUFFER_SIZE = 1024):\n",
    "    '''\n",
    "    get all params by sending '?' to the server\n",
    "    returns a dictionary of parameters\n",
    "    '''\n",
    "    s = socket.socket(socket.AF_INET, socket.SOCK_STREAM)\n",
    "    s.connect((TCP_IP, TCP_PORT))\n",
    "    s.send('?'.encode())\n",
    "    data = s.recv(BUFFER_SIZE).decode()\n",
    "    print(data)\n",
    "    parameters = data_to_dict(data)\n",
    "    s.close()\n",
    "    return parameters\n",
    "\n",
    "def data_to_dict(inp):\n",
    "    '''\n",
    "    converts a string to a dictionary, splitting the data at ':' for each key/val pair\n",
    "    the string is assumed to be generated by casting a dictionary to a string, i.e. str(dict)\n",
    "    '''\n",
    "    spl = inp.split(\"', '\")\n",
    "    spl[0] = spl[0][2:]\n",
    "    spl[-1] = spl[-1][:-2]\n",
    "    parameters = {}\n",
    "    for i, sp in enumerate(spl):\n",
    "        key_val = sp.split(\"': '\")\n",
    "        parameters[key_val[0]] = key_val[1]\n",
    "    return parameters"
   ]
  },
  {
   "cell_type": "code",
   "execution_count": 3,
   "id": "877d9a95-ba0b-4d1a-a948-41dcaa888903",
   "metadata": {},
   "outputs": [
    {
     "name": "stdout",
     "output_type": "stream",
     "text": [
      "{'FUNC': 'PULS', 'OUTPut': 'OFF', 'FREQuency': '1.000000E+00', 'PERiod': '1.000000E+00', 'VOLTage': '6.000E-01', 'VOLTage:UNIT': 'VOLT', 'VOLTage:HIGH': '6.000E-01', 'VOLTage:LOW': '0.0E+00', 'VOLTage:OFFSet': '0.0E+00', 'FUNCtion:PULSe:WIDTh:HIGH': '3.000000E-04', 'FUNCtion:PULSe:WIDTh:LOW': '9.997000E-01', 'FUNCtion:PULSe:DCYCle': '3.000000E-02', 'FUNCtion:PULSe:ETIMe': '8.0E-09', 'TRIGger:SOURce': 'EXT', 'BURSt:MODE': 'TRIG', 'BURSt:NCYCles': '1.0E+00', 'BURSt:INTernal:PERiod': '1.000001E+00', 'BURSt:PHASe': '0.0E+00', 'BURSt:STATe': 'ON'}\n"
     ]
    }
   ],
   "source": [
    "parameters = get_params()"
   ]
  },
  {
   "cell_type": "code",
   "execution_count": null,
   "id": "5e55a1d1-7ab0-4711-9f60-a2c9ebe961f3",
   "metadata": {},
   "outputs": [],
   "source": [
    "set_params(parameters)"
   ]
  },
  {
   "cell_type": "code",
   "execution_count": 5,
   "id": "1bc246dd-2b99-42c2-9fff-1a6ef9bf6fb9",
   "metadata": {},
   "outputs": [
    {
     "name": "stdout",
     "output_type": "stream",
     "text": [
      "{'FREQuency': '1.000000E+00', 'PERiod': '1.000000E+00', 'VOLTage': '6.000E-01', 'VOLTage:UNIT': 'VOLT', 'VOLTage:HIGH': '6.000E-01', 'VOLTage:LOW': '0.0E+00', 'VOLTage:OFFSet': '0.0E+00', 'FUNCtion:PULSe:WIDTh:HIGH': '3.000000E-04', 'FUNCtion:PULSe:WIDTh:LOW': '9.997000E-01', 'FUNCtion:PULSe:DCYCle': '3.000000E-02', 'FUNCtion:PULSe:ETIMe': '8.0E-09', 'TRIGger:SOURce': 'EXT', 'BURSt:MODE': 'TRIG', 'BURSt:NCYCles': '1.0E+00', 'BURSt:INTernal:PERiod': '1.000001E+00', 'BURSt:PHASe': '0.0E+00', 'BURSt:STATe': 'ON'}\n"
     ]
    }
   ],
   "source": [
    "print(str(parameters))"
   ]
  },
  {
   "cell_type": "code",
   "execution_count": null,
   "id": "8803b842-9350-4bca-ac85-f934f4c8c42f",
   "metadata": {},
   "outputs": [],
   "source": []
  }
 ],
 "metadata": {
  "kernelspec": {
   "display_name": "Python 3 (ipykernel)",
   "language": "python",
   "name": "python3"
  },
  "language_info": {
   "codemirror_mode": {
    "name": "ipython",
    "version": 3
   },
   "file_extension": ".py",
   "mimetype": "text/x-python",
   "name": "python",
   "nbconvert_exporter": "python",
   "pygments_lexer": "ipython3",
   "version": "3.8.10"
  }
 },
 "nbformat": 4,
 "nbformat_minor": 5
}
