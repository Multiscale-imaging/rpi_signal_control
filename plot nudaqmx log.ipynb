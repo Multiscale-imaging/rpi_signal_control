{
 "cells": [
  {
   "cell_type": "code",
   "execution_count": 1,
   "id": "43699d13-ba5b-4bb0-8f45-b8f3f9f17162",
   "metadata": {},
   "outputs": [],
   "source": [
    "import matplotlib.pyplot as plt \n",
    "import numpy as np"
   ]
  },
  {
   "cell_type": "code",
   "execution_count": 7,
   "id": "0e0d3b98-0918-43bb-873e-20026a1a50e7",
   "metadata": {},
   "outputs": [],
   "source": [
    "import os\n",
    "def get_last_lines_as_list(file, n):\n",
    "    with open(file, 'rb') as f:\n",
    "        if os.path.getsize(file) > 1000*n:\n",
    "            f.seek(-1000*n, 2)\n",
    "        data = f.readlines()\n",
    "        lines = []\n",
    "        for i in range(n,0,-1):\n",
    "            lines.append(data[-i].decode(\"utf-8\"))\n",
    "    return lines"
   ]
  },
  {
   "cell_type": "code",
   "execution_count": 9,
   "id": "0fd1434a-a9de-4876-9095-c21f708d1b45",
   "metadata": {},
   "outputs": [],
   "source": [
    "lines = get_last_lines('nilog.txt', 100, '\\n')\n"
   ]
  },
  {
   "cell_type": "code",
   "execution_count": null,
   "id": "57a21b78-137d-43b4-909d-51491d1dca7a",
   "metadata": {},
   "outputs": [],
   "source": [
    "def plot_last_time(time_in_seconds):\n",
    "    lines_needed = time_in_seconds*4*10\n",
    "    lines = get_last_lines_as_list('nilog.txt', lines_needed, '\\n')\n",
    "    times = []\n",
    "    for line in lines:\n",
    "        \n"
   ]
  }
 ],
 "metadata": {
  "kernelspec": {
   "display_name": "Python 3 (ipykernel)",
   "language": "python",
   "name": "python3"
  },
  "language_info": {
   "codemirror_mode": {
    "name": "ipython",
    "version": 3
   },
   "file_extension": ".py",
   "mimetype": "text/x-python",
   "name": "python",
   "nbconvert_exporter": "python",
   "pygments_lexer": "ipython3",
   "version": "3.10.7"
  }
 },
 "nbformat": 4,
 "nbformat_minor": 5
}
