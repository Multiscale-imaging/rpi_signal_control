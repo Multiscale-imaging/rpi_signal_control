{
 "cells": [
  {
   "cell_type": "code",
   "execution_count": 49,
   "id": "413359de-9490-43c5-9b37-9fc675fe04b6",
   "metadata": {},
   "outputs": [],
   "source": [
    "import socket\n",
    "import time\n",
    "from datetime import datetime\n",
    "import threading\n",
    "import pyvisa\n",
    "import numpy as np"
   ]
  },
  {
   "cell_type": "code",
   "execution_count": 50,
   "id": "55c5ab4a-0c27-4f16-801e-7cbe693967c2",
   "metadata": {},
   "outputs": [
    {
     "name": "stdout",
     "output_type": "stream",
     "text": [
      "AGILENT TECHNOLOGIES,DSO-X 2014A,MY58103677,02.43.2018020635\n",
      "\n"
     ]
    }
   ],
   "source": [
    "'''\n",
    "Setup communication\n",
    "'''\n",
    "# pip install pyvisa, pyvisa-py'\n",
    "#find ID's with \"lsUSB\"\n",
    "#then run this as super user\n",
    "#echo 'SUBSYSTEM==\"usb\", ACTION==\"add\", ATTRS{idVendor}==\"0957\", ATTRS{idProduct}==\"1798\" GROUP=\"tty\", MODE=\"0660\"' >> /etc/udev/rules.d/99-com.rules\n",
    "# sudo usermod -a -G tty pi\n",
    "\n",
    "rm = pyvisa.ResourceManager()\n",
    "rm.list_resources('?*')\n",
    "\n",
    "inst = rm.open_resource('USB0::2391::6040::MY58103677::0::INSTR')\n",
    "\n",
    "inst.write('*IDN?')\n",
    "print(inst.read())"
   ]
  },
  {
   "cell_type": "code",
   "execution_count": 82,
   "id": "1969b27d-e657-4ac2-bc1d-7e7f48017c5c",
   "metadata": {},
   "outputs": [
    {
     "data": {
      "text/plain": [
       "'AGILENT TECHNOLOGIES,DSO-X 2014A,MY58103677,02.43.2018020635'"
      ]
     },
     "execution_count": 82,
     "metadata": {},
     "output_type": "execute_result"
    }
   ],
   "source": [
    "'''\n",
    "set up backend\n",
    "'''\n",
    "import importlib\n",
    "import serverBackend as sb\n",
    "importlib.reload(sb)\n",
    "\n",
    "#add the commands we want to use - see manual\n",
    "osc_keys = [\n",
    "    'CHANnel1:DISPlay',\n",
    "    'CHANnel2:DISPlay',\n",
    "    'CHANnel3:DISPlay',\n",
    "    'CHANnel4:DISPlay',\n",
    "    'DIGitize',\n",
    "    'WAVeform:SOURce', # CHANnel1\n",
    "    'WAVeform:FORMat',# BYTE\n",
    "    'WAVeform:POINts', # 500\n",
    "    'WAVeform:DATA', #?\n",
    "    'RUN', #?\n",
    "    'STOP', #?\n",
    "    ]\n",
    "sb.setup(inst, osc_keys)\n",
    "sb.query('*IDN?')"
   ]
  },
  {
   "cell_type": "code",
   "execution_count": 52,
   "id": "f67e33d3-06bb-4968-8306-7e88cbb35e9d",
   "metadata": {},
   "outputs": [
    {
     "name": "stdout",
     "output_type": "stream",
     "text": [
      "   set  CHANnel1:DISPlay: ON\n",
      "   set  CHANnel2:DISPlay: OFF\n",
      "   set  CHANnel3:DISPlay: OFF\n",
      "   set  CHANnel4:DISPlay: OFF\n"
     ]
    }
   ],
   "source": [
    "sb.set_single_param('CHANnel1:DISPlay','ON')\n",
    "sb.set_single_param('CHANnel2:DISPlay','OFF')\n",
    "sb.set_single_param('CHANnel3:DISPlay','OFF')\n",
    "sb.set_single_param('CHANnel4:DISPlay','OFF')\n",
    "\n",
    "#sb.query('CHANnel1:DISPlay ON')"
   ]
  },
  {
   "cell_type": "code",
   "execution_count": 53,
   "id": "890d8dfd-688f-40fa-a290-0e2c7211613f",
   "metadata": {},
   "outputs": [
    {
     "name": "stdout",
     "output_type": "stream",
     "text": [
      "   set  WAVeform:SOURce: CHANnel1\n",
      "   set  WAVeform:FORMat: ASCii\n",
      "   set  WAVeform:POINts: 100\n"
     ]
    }
   ],
   "source": [
    "sb.set_single_param('WAVeform:SOURce','CHANnel1')\n",
    "sb.set_single_param('WAVeform:FORMat','ASCii')\n",
    "sb.set_single_param('WAVeform:POINts','100')\n"
   ]
  },
  {
   "cell_type": "code",
   "execution_count": 87,
   "id": "8cbe2e20-f9ef-48e6-a089-a1867b4d89b4",
   "metadata": {},
   "outputs": [
    {
     "name": "stdout",
     "output_type": "stream",
     "text": [
      "   set  RUN: \n"
     ]
    }
   ],
   "source": [
    "#sb.set_single_param('DIGitize','')\n",
    "sb.set_single_param('RUN','')"
   ]
  },
  {
   "cell_type": "code",
   "execution_count": 92,
   "id": "e1e59f2c-22ed-4e65-9156-5dd51a260215",
   "metadata": {},
   "outputs": [
    {
     "name": "stdout",
     "output_type": "stream",
     "text": [
      "['#800001399-9.24824e-001', '-7.23819e-001', '-4.02211e-001', '-4.04020e-002', ' 3.61608e-001', ' 7.23417e-001', ' 9.24422e-001', ' 1.00482e+000', ' 8.84221e-001', ' 6.43015e-001']\n"
     ]
    }
   ],
   "source": [
    "waveform = sb.query('WAVeform:DATA?')\n",
    "print(waveform.split(',')[:10])\n",
    "waveform = np.array([float(s.strip(',')) for s in waveform.split(',')[1:]])"
   ]
  },
  {
   "cell_type": "code",
   "execution_count": 91,
   "id": "41d026f4-c17b-4dbe-975b-bc36b17e97ad",
   "metadata": {},
   "outputs": [
    {
     "data": {
      "text/plain": [
       "[<matplotlib.lines.Line2D at 0xa9331d90>]"
      ]
     },
     "execution_count": 91,
     "metadata": {},
     "output_type": "execute_result"
    },
    {
     "data": {
      "image/png": "[encoded data removed]",
      "text/plain": [
       "<Figure size 432x288 with 1 Axes>"
      ]
     },
     "metadata": {
      "needs_background": "light"
     },
     "output_type": "display_data"
    }
   ],
   "source": [
    "import matplotlib.pyplot as plt\n",
    "plt.plot(waveform)\n",
    "plt.plot([0,100],np.average(waveform)*np.array([1,1]))"
   ]
  },
  {
   "cell_type": "code",
   "execution_count": null,
   "id": "00d3f9b7-f771-4940-88fb-03f0b00d686a",
   "metadata": {},
   "outputs": [],
   "source": []
  },
  {
   "cell_type": "code",
   "execution_count": null,
   "id": "533bb416-7a34-4412-ae34-f672529bc5df",
   "metadata": {},
   "outputs": [],
   "source": []
  },
  {
   "cell_type": "code",
   "execution_count": null,
   "id": "49f3ebd4-418b-488b-9316-75fceef8f6f6",
   "metadata": {},
   "outputs": [],
   "source": [
    "sb.BUFFER_SIZE = 1024"
   ]
  },
  {
   "cell_type": "code",
   "execution_count": null,
   "id": "c8d0b792-3bb6-4b66-bce7-2be42936388a",
   "metadata": {},
   "outputs": [],
   "source": []
  }
 ],
 "metadata": {
  "kernelspec": {
   "display_name": "Python 3 (ipykernel)",
   "language": "python",
   "name": "python3"
  },
  "language_info": {
   "codemirror_mode": {
    "name": "ipython",
    "version": 3
   },
   "file_extension": ".py",
   "mimetype": "text/x-python",
   "name": "python",
   "nbconvert_exporter": "python",
   "pygments_lexer": "ipython3",
   "version": "3.9.2"
  }
 },
 "nbformat": 4,
 "nbformat_minor": 5
}
