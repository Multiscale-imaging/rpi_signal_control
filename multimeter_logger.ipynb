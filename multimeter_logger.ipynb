{
 "cells": [
  {
   "cell_type": "code",
   "execution_count": 15,
   "id": "413359de-9490-43c5-9b37-9fc675fe04b6",
   "metadata": {},
   "outputs": [
    {
     "name": "stdout",
     "output_type": "stream",
     "text": [
      "multimeter 441x10 datapoints\r"
     ]
    }
   ],
   "source": [
    "import socket\n",
    "import time\n",
    "from datetime import datetime\n",
    "import threading\n",
    "import pyvisa\n",
    "import numpy as np"
   ]
  },
  {
   "cell_type": "code",
   "execution_count": 2,
   "id": "55c5ab4a-0c27-4f16-801e-7cbe693967c2",
   "metadata": {},
   "outputs": [
    {
     "name": "stdout",
     "output_type": "stream",
     "text": [
      "('USB0::0x05E6::0x6500::04440503::INSTR',)\n",
      "KEITHLEY INSTRUMENTS,MODEL DMM6500,04440503,1.0.04b\n",
      "\n"
     ]
    }
   ],
   "source": [
    "'''\n",
    "Setup communication\n",
    "'''\n",
    "# pip install pyvisa, pyvisa-py'\n",
    "#find ID's with \"lsusb\"\n",
    "#then run this as super user\n",
    "#echo 'SUBSYSTEM==\"usb\", ACTION==\"add\", ATTRS{idVendor}==\"05e6\", ATTRS{idProduct}==\"6500\" GROUP=\"tty\", MODE=\"0660\"' >> /etc/udev/rules.d/99-com.rules\n",
    "# sudo usermod -a -G tty pi\n",
    "\n",
    "rm = pyvisa.ResourceManager()\n",
    "print(rm.list_resources('?*'))\n",
    "\n",
    "inst = rm.open_resource('USB0::0x05E6::0x6500::04440503::INSTR')\n",
    "\n",
    "inst.write('*IDN?')\n",
    "print(inst.read())"
   ]
  },
  {
   "cell_type": "code",
   "execution_count": 3,
   "id": "0371bfb6-ac68-4129-a55f-fca3d44b9efc",
   "metadata": {},
   "outputs": [
    {
     "data": {
      "text/plain": [
       "21"
      ]
     },
     "execution_count": 3,
     "metadata": {},
     "output_type": "execute_result"
    }
   ],
   "source": [
    "inst.write('SENS:FUNC \"CURR:DC\"')\n",
    "inst.write('SENS:CURR:DC:RANG 0.001')\n",
    "inst.write('SENS:CURR:DC:NPLC 1')"
   ]
  },
  {
   "cell_type": "code",
   "execution_count": 4,
   "id": "a88593a6-ed6e-4811-a203-b8c93e980d43",
   "metadata": {},
   "outputs": [],
   "source": [
    "def query(s):\n",
    "    inst.write(s)\n",
    "    # collect return\n",
    "    out =''\n",
    "    while True:\n",
    "        line = inst.read_bytes(1)\n",
    "        if line == b'1`':\n",
    "            if len(out)>0:\n",
    "                break\n",
    "            continue\n",
    "        out += line.decode('utf-8')\n",
    "        if b'\\n' in line: # newline marks end of return\n",
    "            break\n",
    "    return out"
   ]
  },
  {
   "cell_type": "code",
   "execution_count": 5,
   "id": "53fd6983-4518-4cc7-8ba2-f4209e72fe91",
   "metadata": {},
   "outputs": [
    {
     "data": {
      "text/plain": [
       "'-7.002609E-09\\n'"
      ]
     },
     "execution_count": 5,
     "metadata": {},
     "output_type": "execute_result"
    }
   ],
   "source": [
    "query('READ?')"
   ]
  },
  {
   "cell_type": "code",
   "execution_count": null,
   "id": "4ecbea41-3776-49e9-b45c-6eff2c5a5799",
   "metadata": {},
   "outputs": [],
   "source": []
  },
  {
   "cell_type": "code",
   "execution_count": 17,
   "id": "1969b27d-e657-4ac2-bc1d-7e7f48017c5c",
   "metadata": {},
   "outputs": [
    {
     "name": "stdout",
     "output_type": "stream",
     "text": [
      "multimeter 6x10 datapoints\r"
     ]
    }
   ],
   "source": [
    "rate = 10\n",
    "samples = 0\n",
    "def aquire_as_thread():\n",
    "    global samples\n",
    "    while keep_alive:\n",
    "        s = str(datetime.now()) + '\\n'\n",
    "        for i in range(rate):\n",
    "            s = s+query('READ?')[:-1]\n",
    "            time.sleep(1/rate)\n",
    "            if i<rate:\n",
    "                s = s + ' '\n",
    "        with open('multimeter_log.txt','a') as fi:\n",
    "            fi.write(s+'\\n')\n",
    "        samples += 1\n",
    "        if keep_alive:\n",
    "            print(f'multimeter {samples}x{rate} datapoints', end = '\\r')\n",
    "        else:\n",
    "            break\n",
    "        \n",
    "            \n",
    "keep_alive = True \n",
    "threading.Thread(target=aquire_as_thread, args=()).start()\n"
   ]
  },
  {
   "cell_type": "code",
   "execution_count": 22,
   "id": "c39a4b66-a1de-4f2e-9865-c19c0d59dda8",
   "metadata": {},
   "outputs": [
    {
     "name": "stdout",
     "output_type": "stream",
     "text": [
      "multimeter 457x10 datapoints\r"
     ]
    }
   ],
   "source": [
    "# to stop reading thread:\n",
    "if 0:\n",
    "    keep_alive = False\n",
    "    print(f'multimeter {samples}x{rate} datapoints')"
   ]
  },
  {
   "cell_type": "code",
   "execution_count": 23,
   "id": "f67e33d3-06bb-4968-8306-7e88cbb35e9d",
   "metadata": {},
   "outputs": [
    {
     "name": "stdout",
     "output_type": "stream",
     "text": [
      "multimeter 458x10 datapoints\r"
     ]
    }
   ],
   "source": [
    "import os\n",
    "def get_last_lines(file, n):\n",
    "    with open(file, 'rb') as f:\n",
    "        if os.path.getsize(file) > 1000:\n",
    "            f.seek(-1000, 2)\n",
    "        data = f.readlines()\n",
    "        lines = []\n",
    "        for i in range(n,0,-1):\n",
    "            lines.append(data[-i].decode(\"utf-8\"))\n",
    "        lines = ' / '.join(lines).replace('\\r\\n', '').strip()\n",
    "    return lines"
   ]
  },
  {
   "cell_type": "code",
   "execution_count": 24,
   "id": "c249a3f7-2acf-40ac-afaf-c9d4817f2be9",
   "metadata": {},
   "outputs": [
    {
     "data": {
      "text/plain": [
       "'2022-09-09 15:59:53.279061 / -6.032736E-09 -6.057508E-09 -7.927685E-09 -6.206131E-09 -7.133170E-09 -8.099222E-09 -5.411616E-09 -5.671707E-09 -5.907024E-09 -5.956565E-09'"
      ]
     },
     "execution_count": 24,
     "metadata": {},
     "output_type": "execute_result"
    },
    {
     "name": "stdout",
     "output_type": "stream",
     "text": [
      "multimeter 540x10 datapoints\r"
     ]
    }
   ],
   "source": [
    "get_last_lines('multimeter_log.txt', 2)"
   ]
  },
  {
   "cell_type": "code",
   "execution_count": null,
   "id": "c8d0b792-3bb6-4b66-bce7-2be42936388a",
   "metadata": {},
   "outputs": [],
   "source": []
  },
  {
   "cell_type": "code",
   "execution_count": null,
   "id": "00d3f9b7-f771-4940-88fb-03f0b00d686a",
   "metadata": {},
   "outputs": [],
   "source": []
  },
  {
   "cell_type": "code",
   "execution_count": null,
   "id": "533bb416-7a34-4412-ae34-f672529bc5df",
   "metadata": {},
   "outputs": [],
   "source": []
  },
  {
   "cell_type": "code",
   "execution_count": null,
   "id": "49f3ebd4-418b-488b-9316-75fceef8f6f6",
   "metadata": {},
   "outputs": [],
   "source": []
  },
  {
   "cell_type": "code",
   "execution_count": null,
   "id": "caa5d518-0614-4edd-8ea6-9f0a7f3f8599",
   "metadata": {},
   "outputs": [],
   "source": []
  }
 ],
 "metadata": {
  "kernelspec": {
   "display_name": "Python 3 (ipykernel)",
   "language": "python",
   "name": "python3"
  },
  "language_info": {
   "codemirror_mode": {
    "name": "ipython",
    "version": 3
   },
   "file_extension": ".py",
   "mimetype": "text/x-python",
   "name": "python",
   "nbconvert_exporter": "python",
   "pygments_lexer": "ipython3",
   "version": "3.10.7"
  }
 },
 "nbformat": 4,
 "nbformat_minor": 5
}
