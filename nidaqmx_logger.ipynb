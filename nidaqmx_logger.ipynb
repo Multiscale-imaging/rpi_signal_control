{
 "cells": [
  {
   "cell_type": "code",
   "execution_count": 14,
   "id": "5bfc788f-d5cd-4ae7-a45f-c3037a937aa2",
   "metadata": {},
   "outputs": [],
   "source": [
    "# add source to apt\n",
    "# sudo apt update\n",
    "# sudo apt install ni-daqmx\n",
    "import time\n",
    "import datetime\n",
    "import pprint\n",
    "import nidaqmx\n",
    "import threading\n",
    "import numpy as np\n",
    "import nidaqmx.stream_writers"
   ]
  },
  {
   "cell_type": "code",
   "execution_count": 32,
   "id": "62130fa0-e1e1-4e1f-aa28-32d078fbaf7c",
   "metadata": {},
   "outputs": [
    {
     "name": "stdout",
     "output_type": "stream",
     "text": [
      " 413x100 datapoints\r"
     ]
    }
   ],
   "source": [
    "# 1 kHz, in chunks of 100\n",
    "rate = 1000\n",
    "samples_per_read = 100\n",
    "# 10 Hz\n",
    "rate = 10\n",
    "samples_per_read = 10\n",
    "samples = 0\n",
    "def aquire_as_thread():\n",
    "    with nidaqmx.Task() as task:\n",
    "        task.ai_channels.add_ai_voltage_chan(\"Dev1/ai0\")\n",
    "\n",
    "        task.timing.cfg_samp_clk_timing(rate, sample_mode=nidaqmx.constants.AcquisitionType.CONTINUOUS)\n",
    "\n",
    "        def callback(task_handle, every_n_samples_event_type,\n",
    "                     number_of_samples, callback_data):\n",
    "            #print('Every N Samples callback invoked.')\n",
    "            data = task.read(number_of_samples_per_channel=samples_per_read)\n",
    "            with open('nilog.txt','a') as fi:\n",
    "                fi.write(str(datetime.datetime.now())+'\\n'+ ''.join([f'{s:.5f} ' for s in data]) +'\\n')\n",
    "            global samples\n",
    "            samples +=1\n",
    "            return 0\n",
    "\n",
    "        task.register_every_n_samples_acquired_into_buffer_event(\n",
    "            samples_per_read, callback)\n",
    "\n",
    "        task.start()            \n",
    "        while keep_alive:\n",
    "            print(f' {samples}x{samples_per_read} datapoints', end = '\\r')\n",
    "            time.sleep(1)\n",
    "            \n",
    "keep_alive = True \n",
    "threading.Thread(target=aquire_as_thread, args=()).start()\n"
   ]
  },
  {
   "cell_type": "code",
   "execution_count": 50,
   "id": "721efcb9-fc9a-474e-8257-f740c30f13cb",
   "metadata": {},
   "outputs": [
    {
     "name": "stdout",
     "output_type": "stream",
     "text": [
      " 2701x100 datapoints\n"
     ]
    },
    {
     "name": "stderr",
     "output_type": "stream",
     "text": [
      "sys:1: ResourceWarning: unclosed socket <zmq.Socket(zmq.PUSH) at 0x1fdf5d69e40>\n",
      "ResourceWarning: Enable tracemalloc to get the object allocation traceback\n"
     ]
    }
   ],
   "source": [
    "# to stop reading thread:\n",
    "if 0:\n",
    "    keep_alive = False\n",
    "    print(f' {samples}x{samples_per_read} datapoints')"
   ]
  },
  {
   "cell_type": "code",
   "execution_count": 39,
   "id": "2828e215-fd29-4106-b64c-3f0fc8d5eb4e",
   "metadata": {},
   "outputs": [],
   "source": [
    "import os\n",
    "def get_last_lines(file, n, sep = ' / '):\n",
    "    with open(file, 'rb') as f:\n",
    "        if os.path.getsize(file) > 20000:\n",
    "            f.seek(-20000, 2)\n",
    "        data = f.readlines()\n",
    "        lines = []\n",
    "        for i in range(n,0,-1):\n",
    "            lines.append(data[-i].decode(\"utf-8\"))\n",
    "        lines = sep.join(lines).replace('\\r\\n', '').strip()\n",
    "    return lines"
   ]
  },
  {
   "cell_type": "code",
   "execution_count": 49,
   "id": "fc09d63f-7707-406a-986d-d24b988dad70",
   "metadata": {},
   "outputs": [
    {
     "name": "stdout",
     "output_type": "stream",
     "text": [
      "2022-09-13 16:48:08.830978 / 0.00009 -0.00087 0.00058 0.00009 0.00025 -0.00007 -0.00007 0.00009 0.00009 -0.00023 0.00041 -0.00023 -0.00007 0.00025 0.00009 0.00009 -0.00023 0.00009 0.00009 0.00025 0.00009 0.00041 0.00025 0.00025 0.00025 -0.00152 0.00074 0.00041 0.00025 0.00041 0.00041 0.00009 0.00025 0.00009 0.00025 -0.00007 0.00009 0.00041 -0.00007 0.00009 0.00041 0.00025 0.00009 0.00025 0.00009 0.00025 -0.00023 0.00009 0.00025 0.00009 0.00009 0.00041 -0.00023 0.00009 0.00009 0.00009 0.00025 0.00041 0.00025 -0.00007 0.00025 0.00009 0.00009 0.00041 0.00025 0.00009 0.00009 0.00009 0.00041 0.00025 -0.00007 0.00025 0.00009 -0.00007 0.00041 0.00025 -0.00023 -0.00007 0.00041 0.00009 0.00009 -0.00023 0.00009 0.00025 0.00009 -0.00023 0.00009 -0.00007 -0.00007 0.00025 0.00025 0.00041 0.00009 0.00009 0.00009 -0.00007 0.00041 0.00009 0.00009 -0.00039\n",
      " 2701x100 datapoints\r"
     ]
    }
   ],
   "source": [
    "lines = get_last_lines('nilog.txt', 2)\n",
    "print(lines)"
   ]
  },
  {
   "cell_type": "code",
   "execution_count": 47,
   "id": "f356fafb-fcf7-4a7f-a74c-532e98e1b86e",
   "metadata": {},
   "outputs": [
    {
     "name": "stdout",
     "output_type": "stream",
     "text": [
      "2022-09-13 16:47:48.134028\n",
      "2022-09-13 16:47:48.233303\n",
      "2022-09-13 16:47:48.337059\n",
      "2022-09-13 16:47:48.439916\n",
      "2022-09-13 16:47:48.532956\n",
      "2022-09-13 16:47:48.634461\n",
      "2022-09-13 16:47:48.736565\n",
      "2022-09-13 16:47:48.827959\n",
      " 1998x100 datapoints\r"
     ]
    }
   ],
   "source": [
    "lines = get_last_lines('nilog.txt', 16, '\\n')\n",
    "for l in lines.split('\\n')[::2]:\n",
    "    print(l)"
   ]
  },
  {
   "cell_type": "code",
   "execution_count": null,
   "id": "4eba9bec-5351-4e82-9ecd-1086518c4157",
   "metadata": {},
   "outputs": [],
   "source": []
  },
  {
   "cell_type": "code",
   "execution_count": null,
   "id": "795e3797-a4b6-407a-a122-483e53958815",
   "metadata": {},
   "outputs": [],
   "source": []
  },
  {
   "cell_type": "code",
   "execution_count": null,
   "id": "b6068578-2f4e-453e-8151-d4b8bafc1aae",
   "metadata": {},
   "outputs": [],
   "source": []
  }
 ],
 "metadata": {
  "kernelspec": {
   "display_name": "Python 3 (ipykernel)",
   "language": "python",
   "name": "python3"
  },
  "language_info": {
   "codemirror_mode": {
    "name": "ipython",
    "version": 3
   },
   "file_extension": ".py",
   "mimetype": "text/x-python",
   "name": "python",
   "nbconvert_exporter": "python",
   "pygments_lexer": "ipython3",
   "version": "3.10.7"
  }
 },
 "nbformat": 4,
 "nbformat_minor": 5
}
