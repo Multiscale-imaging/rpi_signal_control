{
 "cells": [
  {
   "cell_type": "code",
   "execution_count": 1,
   "id": "413359de-9490-43c5-9b37-9fc675fe04b6",
   "metadata": {},
   "outputs": [],
   "source": [
    "import socket\n",
    "import time\n",
    "from datetime import datetime\n",
    "import threading\n",
    "import pyvisa\n",
    "import numpy as np"
   ]
  },
  {
   "cell_type": "code",
   "execution_count": 2,
   "id": "55c5ab4a-0c27-4f16-801e-7cbe693967c2",
   "metadata": {},
   "outputs": [
    {
     "name": "stdout",
     "output_type": "stream",
     "text": [
      "KEITHLEY INSTRUMENTS,MODEL DMM6500,04440503,1.0.04b\n",
      "\n"
     ]
    }
   ],
   "source": [
    "'''\n",
    "Setup communication\n",
    "'''\n",
    "# pip install pyvisa, pyvisa-py'\n",
    "#find ID's with \"lsusb\"\n",
    "#then run this as super user\n",
    "#echo 'SUBSYSTEM==\"usb\", ACTION==\"add\", ATTRS{idVendor}==\"0957\", ATTRS{idProduct}==\"1798\" GROUP=\"tty\", MODE=\"0660\"' >> /etc/udev/rules.d/99-com.rules\n",
    "# sudo usermod -a -G tty pi\n",
    "\n",
    "#Bus 001 Device 006: ID 05e6:6500 Keithley Instruments Digital Multimeter\n",
    "\n",
    "#echo 'SUBSYSTEM==\"usb\", ACTION==\"add\", ATTRS{idVendor}==\"05e6\", ATTRS{idProduct}==\"6500\" GROUP=\"tty\", MODE=\"0660\"' >> /etc/udev/rules.d/99-com.rules\n",
    "rm = pyvisa.ResourceManager()\n",
    "rm.list_resources('?*')\n",
    "\n",
    "inst = rm.open_resource('USB0::1510::25856::04440503::0::INSTR')\n",
    "\n",
    "inst.write('*IDN?')\n",
    "print(inst.read())"
   ]
  },
  {
   "cell_type": "code",
   "execution_count": 4,
   "id": "1969b27d-e657-4ac2-bc1d-7e7f48017c5c",
   "metadata": {},
   "outputs": [
    {
     "data": {
      "text/plain": [
       "'KEITHLEY INSTRUMENTS,MODEL DMM6500,04440503,1.0.04b'"
      ]
     },
     "execution_count": 4,
     "metadata": {},
     "output_type": "execute_result"
    }
   ],
   "source": [
    "'''\n",
    "set up backend\n",
    "'''\n",
    "import importlib\n",
    "import serverBackend as sb\n",
    "importlib.reload(sb)\n",
    "\n",
    "#add the commands we want to use - see manual\n",
    "multimter_keys = [\n",
    "    'SENS:FUNC', # \"CURR:DC\" \"VOLT:DC\" etc\n",
    "    'SENS:CURR:DC:RANG', # current range in A, 0.001, 0.1, 1 etc\n",
    "    'DISP:CURR:DC:DIG', # digits shown on screen\n",
    "    'SENS:CURR:DC:NPLC', #This command sets the integration time in number of power line cycles (PLCs) on the specified channels.Integration time affects the measurement resolution (for better resolution, use a longer integration time) and measurement speed (for faster measurements, use a shorter integration time).If you omit the optional <ch_list> parameter, this command applies to the currently defined scan list.\n",
    "    'READ?',\n",
    "    ]\n",
    "sb.setup(inst, multimter_keys)\n",
    "sb.query('*IDN?')"
   ]
  },
  {
   "cell_type": "code",
   "execution_count": 5,
   "id": "c39a4b66-a1de-4f2e-9865-c19c0d59dda8",
   "metadata": {},
   "outputs": [
    {
     "name": "stdout",
     "output_type": "stream",
     "text": [
      "['SENS:FUNC', 'SENS:CURR:DC:RANG', 'DISP:CURR:DC:DIG', 'SENS:CURR:DC:NPLC', 'READ?']\n"
     ]
    }
   ],
   "source": [
    "print(sb.keys)"
   ]
  },
  {
   "cell_type": "code",
   "execution_count": 6,
   "id": "f67e33d3-06bb-4968-8306-7e88cbb35e9d",
   "metadata": {},
   "outputs": [
    {
     "name": "stdout",
     "output_type": "stream",
     "text": [
      "   set  SENS:FUNC: \"CURR:DC\"\n",
      "   set  SENS:CURR:DC:RANG: 0.001\n",
      "   set  SENS:CURR:DC:NPLC: 1000\n"
     ]
    }
   ],
   "source": [
    "sb.set_single_param('SENS:FUNC','\"CURR:DC\"')\n",
    "sb.set_single_param('SENS:CURR:DC:RANG','0.001')\n",
    "sb.set_single_param('SENS:CURR:DC:NPLC','1000')"
   ]
  },
  {
   "cell_type": "code",
   "execution_count": 7,
   "id": "c249a3f7-2acf-40ac-afaf-c9d4817f2be9",
   "metadata": {},
   "outputs": [
    {
     "data": {
      "text/plain": [
       "'-6.406820E-09'"
      ]
     },
     "execution_count": 7,
     "metadata": {},
     "output_type": "execute_result"
    }
   ],
   "source": [
    "sb.query('READ?') # A"
   ]
  },
  {
   "cell_type": "code",
   "execution_count": 8,
   "id": "c8d0b792-3bb6-4b66-bce7-2be42936388a",
   "metadata": {},
   "outputs": [],
   "source": []
  },
  {
   "cell_type": "code",
   "execution_count": null,
   "id": "00d3f9b7-f771-4940-88fb-03f0b00d686a",
   "metadata": {},
   "outputs": [
    {
     "name": "stdout",
     "output_type": "stream",
     "text": [
      "server started and listening\n",
      "Current Time = 15:48:23\n"
     ]
    }
   ],
   "source": [
    "serversocket = socket.socket(socket.AF_INET, socket.SOCK_STREAM)\n",
    "port = 5008\n",
    "host = sb.get_ip() #\"127.0.0.1\"\n",
    "serversocket.bind((host, port))\n",
    "serversocket.listen(5)\n",
    "print ('server started and listening')\n",
    "while 1:\n",
    "    clientsocket, address = serversocket.accept()\n",
    "    sb.server(clientsocket, address)"
   ]
  },
  {
   "cell_type": "code",
   "execution_count": null,
   "id": "533bb416-7a34-4412-ae34-f672529bc5df",
   "metadata": {},
   "outputs": [],
   "source": []
  },
  {
   "cell_type": "code",
   "execution_count": null,
   "id": "49f3ebd4-418b-488b-9316-75fceef8f6f6",
   "metadata": {},
   "outputs": [],
   "source": []
  },
  {
   "cell_type": "code",
   "execution_count": null,
   "id": "caa5d518-0614-4edd-8ea6-9f0a7f3f8599",
   "metadata": {},
   "outputs": [],
   "source": []
  }
 ],
 "metadata": {
  "kernelspec": {
   "display_name": "Python 3 (ipykernel)",
   "language": "python",
   "name": "python3"
  },
  "language_info": {
   "codemirror_mode": {
    "name": "ipython",
    "version": 3
   },
   "file_extension": ".py",
   "mimetype": "text/x-python",
   "name": "python",
   "nbconvert_exporter": "python",
   "pygments_lexer": "ipython3",
   "version": "3.9.2"
  }
 },
 "nbformat": 4,
 "nbformat_minor": 5
}
