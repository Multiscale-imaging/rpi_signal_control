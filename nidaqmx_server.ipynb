{
 "cells": [
  {
   "cell_type": "code",
   "execution_count": 1,
   "id": "89d5dc2b-80bd-43bc-bc4a-4cb6e99f5caa",
   "metadata": {},
   "outputs": [
    {
     "data": {
      "text/plain": [
       "<module 'nidaqmxServerBackend' from 'C:\\\\Users\\\\Trondheim\\\\Desktop\\\\rpi_signal_control\\\\nidaqmxServerBackend.py'>"
      ]
     },
     "execution_count": 1,
     "metadata": {},
     "output_type": "execute_result"
    }
   ],
   "source": [
    "# add source to apt\n",
    "# sudo apt update\n",
    "# sudo apt install ni-daqmx\n",
    "import time\n",
    "import datetime\n",
    "import nidaqmx\n",
    "import threading\n",
    "import numpy as np\n",
    "import nidaqmx.stream_writers\n",
    "import nidaqmxServerBackend as sb\n",
    "import importlib\n",
    "import socket\n",
    "importlib.reload(sb)"
   ]
  },
  {
   "cell_type": "code",
   "execution_count": null,
   "id": "950f7f39-f211-481d-8bd2-595100c19a52",
   "metadata": {},
   "outputs": [],
   "source": []
  },
  {
   "cell_type": "code",
   "execution_count": 2,
   "id": "d743e972-d0da-4741-9ad9-4e96aed4a82b",
   "metadata": {},
   "outputs": [],
   "source": [
    "sb.old_v = 0"
   ]
  },
  {
   "cell_type": "code",
   "execution_count": 4,
   "id": "521fba94-ec44-4a0c-b44a-734acf88cde1",
   "metadata": {},
   "outputs": [],
   "source": [
    "new_v = 0.00# V\n",
    "sb.set_voltage(new_v)"
   ]
  },
  {
   "cell_type": "code",
   "execution_count": null,
   "id": "e147c9a9-957c-4acd-a13e-873df8bdfe8d",
   "metadata": {},
   "outputs": [],
   "source": []
  },
  {
   "cell_type": "code",
   "execution_count": null,
   "id": "3b56ca1d-2005-4550-93a3-e843d44d2882",
   "metadata": {},
   "outputs": [
    {
     "name": "stdout",
     "output_type": "stream",
     "text": [
      "server started and listening\n",
      "Current Time = 15:55:53\n",
      "VOLT? 2022-09-09 15:55:53.550539 / -0.00055 -0.00039 -0.00023 -0.00023 -0.00023 -0.00039 -0.00023 -0.00023 -0.00039 -0.00023\n",
      "Current Time = 15:55:57\n",
      "VOLT=1 setting VOLT 1.0\n",
      "Current Time = 15:56:20\n",
      "CUR? 2022-09-09 15:56:18.211106 / -1.074841E-08 -9.608969E-09 -6.710814E-09 -7.218610E-09 -6.723199E-09 -9.559428E-09 -7.478701E-09 -7.726408E-09 -5.633296E-09 -7.367235E-09\n",
      "Current Time = 15:56:29\n",
      "VOLT? 2022-09-09 15:56:29.542748 / 0.99973 0.99973 0.99989 1.00005 0.99973 0.99973 0.99989 0.99989 0.99989 1.00005\n",
      "Current Time = 15:56:30\n",
      "CUR? 2022-09-09 15:56:28.973204 / -4.907525E-09 -6.183208E-09 -7.211188E-09 -8.945127E-09 -6.183210E-09 -8.969898E-09 -4.857985E-09 -5.229544E-09 -7.619903E-09 -5.477249E-09\n",
      "Current Time = 15:56:32\n",
      "VOLT=1 setting VOLT 1.0\n",
      "Current Time = 15:56:32\n",
      "VOLT? 2022-09-09 15:56:32.542819 / 1.00005 0.99989 0.99973 1.00005 0.99989 0.99989 0.99989 0.99989 0.99989 0.99957\n",
      "Current Time = 15:56:33\n",
      "CUR? 2022-09-09 15:56:31.663285 / -7.149257E-09 -7.669439E-09 -7.929529E-09 -6.368984E-09 -6.542382E-09 -6.245135E-09 -6.468070E-09 -7.248343E-09 -7.235958E-09 -5.848806E-09\n",
      "Current Time = 16:04:07\n",
      "VOLT=0 setting VOLT 0.0\n",
      "Current Time = 16:04:09\n",
      "VOLT? 2022-09-09 16:04:08.549047 / 0.99989 0.99989 0.99973 0.91861 0.81786 0.71711 0.61603 0.51528 0.41388 0.31281\n",
      "Current Time = 16:04:11\n",
      "VOLT? 2022-09-09 16:04:11.549163 / -0.00007 -0.00023 -0.00023 -0.00039 -0.00007 -0.00039 -0.00023 -0.00023 -0.00039 -0.00023\n",
      "Current Time = 16:06:01\n",
      "VOLT=0 setting VOLT 0.0\n",
      "Current Time = 16:06:02\n",
      "VOLT? 2022-09-09 16:06:01.551564 / -0.00007 -0.00007 -0.00023 -0.00007 -0.00007 0.00009 -0.00007 -0.00023 -0.00007 -0.00023\n",
      "Current Time = 16:06:03\n",
      "CUR? 2022-09-09 16:06:02.181561 / -6.756058E-09 -5.864317E-09 -7.400094E-09 -5.418448E-09 -7.486791E-09 -6.099639E-09 -8.130826E-09 -7.969818E-09 -7.672571E-09 -9.158805E-09\n"
     ]
    }
   ],
   "source": [
    "sb.setup('nidaqmx_server.log')\n",
    "serversocket = socket.socket(socket.AF_INET, socket.SOCK_STREAM)\n",
    "port = 5009\n",
    "host = sb.get_ip() #\"127.0.0.1\"\n",
    "serversocket.bind((host, port))\n",
    "serversocket.listen(5)\n",
    "print ('server started and listening')\n",
    "while True:\n",
    "    clientsocket, address = serversocket.accept()\n",
    "    sb.server(clientsocket, address)"
   ]
  },
  {
   "cell_type": "code",
   "execution_count": null,
   "id": "eadc4935-9354-4480-8ac0-3b6e0e2aee89",
   "metadata": {},
   "outputs": [],
   "source": []
  },
  {
   "cell_type": "code",
   "execution_count": null,
   "id": "2f6939a9-5fc6-4c1d-aadc-cf98c739f4b5",
   "metadata": {},
   "outputs": [],
   "source": []
  },
  {
   "cell_type": "code",
   "execution_count": null,
   "id": "4c157b14-99db-4d7b-8113-1009b2ce6aa5",
   "metadata": {},
   "outputs": [],
   "source": []
  },
  {
   "cell_type": "code",
   "execution_count": null,
   "id": "801e4403-0a2c-4215-b24a-e3760c17c714",
   "metadata": {},
   "outputs": [],
   "source": [
    "### random signal generator\n",
    "#while True:\n",
    "#    new_v = np.random.random()*2-1# V\n",
    "#    set_voltage(new_v)"
   ]
  }
 ],
 "metadata": {
  "kernelspec": {
   "display_name": "Python 3 (ipykernel)",
   "language": "python",
   "name": "python3"
  },
  "language_info": {
   "codemirror_mode": {
    "name": "ipython",
    "version": 3
   },
   "file_extension": ".py",
   "mimetype": "text/x-python",
   "name": "python",
   "nbconvert_exporter": "python",
   "pygments_lexer": "ipython3",
   "version": "3.10.7"
  }
 },
 "nbformat": 4,
 "nbformat_minor": 5
}
