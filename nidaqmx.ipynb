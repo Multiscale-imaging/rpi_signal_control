{
 "cells": [
  {
   "cell_type": "code",
   "execution_count": 1,
   "id": "5bfc788f-d5cd-4ae7-a45f-c3037a937aa2",
   "metadata": {},
   "outputs": [],
   "source": [
    "# add source to apt\n",
    "# sudo apt update\n",
    "# sudo apt install ni-daqmx\n",
    "import time\n",
    "import datetime\n",
    "import pprint\n",
    "import nidaqmx\n",
    "import threading\n",
    "import numpy as np\n",
    "import nidaqmx.stream_writers"
   ]
  },
  {
   "cell_type": "code",
   "execution_count": 2,
   "id": "62130fa0-e1e1-4e1f-aa28-32d078fbaf7c",
   "metadata": {},
   "outputs": [
    {
     "name": "stdout",
     "output_type": "stream",
     "text": [
      " 5x10 datapoints\r"
     ]
    }
   ],
   "source": [
    "rate = 10\n",
    "samples_per_read = rate\n",
    "\n",
    "samples = 0\n",
    "def aquire_as_thread():\n",
    "    with nidaqmx.Task() as task:\n",
    "        task.ai_channels.add_ai_voltage_chan(\"Dev1/ai0\")\n",
    "\n",
    "        task.timing.cfg_samp_clk_timing(rate, sample_mode=nidaqmx.constants.AcquisitionType.CONTINUOUS)\n",
    "\n",
    "        def callback(task_handle, every_n_samples_event_type,\n",
    "                     number_of_samples, callback_data):\n",
    "            #print('Every N Samples callback invoked.')\n",
    "            data = task.read(number_of_samples_per_channel=samples_per_read)\n",
    "            with open('nilog.txt','a') as fi:\n",
    "                fi.write(str(datetime.datetime.now())+'\\n'+ ''.join([f'{s:.5f} ' for s in data]) +'\\n')\n",
    "            global samples\n",
    "            samples +=1\n",
    "            return 0\n",
    "\n",
    "        task.register_every_n_samples_acquired_into_buffer_event(\n",
    "            samples_per_read, callback)\n",
    "\n",
    "        task.start()            \n",
    "        while keep_alive:\n",
    "            print(f' {samples}x{samples_per_read} datapoints', end = '\\r')\n",
    "            time.sleep(1)\n",
    "            \n",
    "keep_alive = True \n",
    "threading.Thread(target=aquire_as_thread, args=()).start()\n"
   ]
  },
  {
   "cell_type": "code",
   "execution_count": 7,
   "id": "721efcb9-fc9a-474e-8257-f740c30f13cb",
   "metadata": {},
   "outputs": [],
   "source": [
    "# to stop reading thread:\n",
    "if 0:\n",
    "    keep_alive = False\n",
    "    print(f' {samples}x{samples_per_read} datapoints')"
   ]
  },
  {
   "cell_type": "code",
   "execution_count": 3,
   "id": "2828e215-fd29-4106-b64c-3f0fc8d5eb4e",
   "metadata": {},
   "outputs": [
    {
     "name": "stdout",
     "output_type": "stream",
     "text": [
      " 7x10 datapoints\r"
     ]
    }
   ],
   "source": [
    "old_v = 0 #v"
   ]
  },
  {
   "cell_type": "code",
   "execution_count": 17,
   "id": "f356fafb-fcf7-4a7f-a74c-532e98e1b86e",
   "metadata": {},
   "outputs": [
    {
     "name": "stdout",
     "output_type": "stream",
     "text": [
      " 177x10 datapoints\r"
     ]
    }
   ],
   "source": [
    "# to set new voltage\n",
    "new_v = 0.01# V\n",
    "\n",
    "write_rate = 100\n",
    "duration = 1\n",
    "ramp = np.linspace(old_v, new_v, int(write_rate*duration))\n",
    "with nidaqmx.Task() as task:\n",
    "    channel = task.ao_channels.add_ao_voltage_chan(\"Dev1/ao0\")\n",
    "    task.timing.cfg_samp_clk_timing(rate=write_rate,\n",
    "                                        #source='/cDAQ1/ao/SampleClock',\n",
    "                                        #active_edge=nidaqmx.constants.Edge.RISING,\n",
    "                                        #sample_mode=nidaqmx.constants.AcquisitionType.FINITE,\n",
    "                                    samps_per_chan= len(ramp)\n",
    "                                   )\n",
    "    writer = nidaqmx.stream_writers.AnalogMultiChannelWriter(task.out_stream)\n",
    "\n",
    "\n",
    "    task.write(ramp, auto_start=False)\n",
    "    task.start()\n",
    "    with open('nilog_ao0.txt','a') as f:\n",
    "        f.write(str(datetime.datetime.now())+'\\n'+ f'rate {write_rate}, data: ' + ''.join([f'{s:.5f} ' for s in ramp]) +'\\n')\n",
    "    task.wait_until_done()\n",
    "\n",
    "old_v = new_v # reset        "
   ]
  },
  {
   "cell_type": "code",
   "execution_count": 48,
   "id": "4eba9bec-5351-4e82-9ecd-1086518c4157",
   "metadata": {},
   "outputs": [
    {
     "name": "stdout",
     "output_type": "stream",
     "text": [
      "1\n",
      " 697x1000 datapoints\r"
     ]
    }
   ],
   "source": [
    "print(old_v)"
   ]
  },
  {
   "cell_type": "code",
   "execution_count": 4,
   "id": "795e3797-a4b6-407a-a122-483e53958815",
   "metadata": {},
   "outputs": [
    {
     "name": "stdout",
     "output_type": "stream",
     "text": [
      " 66490x10 datapoints\r"
     ]
    },
    {
     "ename": "KeyboardInterrupt",
     "evalue": "",
     "output_type": "error",
     "traceback": [
      "\u001b[1;31m---------------------------------------------------------------------------\u001b[0m",
      "\u001b[1;31mKeyboardInterrupt\u001b[0m                         Traceback (most recent call last)",
      "Input \u001b[1;32mIn [4]\u001b[0m, in \u001b[0;36m<cell line: 1>\u001b[1;34m()\u001b[0m\n\u001b[0;32m     21\u001b[0m     \u001b[38;5;28;01mwith\u001b[39;00m \u001b[38;5;28mopen\u001b[39m(\u001b[38;5;124m'\u001b[39m\u001b[38;5;124mnilog_ao0.txt\u001b[39m\u001b[38;5;124m'\u001b[39m,\u001b[38;5;124m'\u001b[39m\u001b[38;5;124ma\u001b[39m\u001b[38;5;124m'\u001b[39m) \u001b[38;5;28;01mas\u001b[39;00m f:\n\u001b[0;32m     22\u001b[0m         f\u001b[38;5;241m.\u001b[39mwrite(\u001b[38;5;28mstr\u001b[39m(datetime\u001b[38;5;241m.\u001b[39mdatetime\u001b[38;5;241m.\u001b[39mnow())\u001b[38;5;241m+\u001b[39m\u001b[38;5;124m'\u001b[39m\u001b[38;5;130;01m\\n\u001b[39;00m\u001b[38;5;124m'\u001b[39m\u001b[38;5;241m+\u001b[39m \u001b[38;5;124mf\u001b[39m\u001b[38;5;124m'\u001b[39m\u001b[38;5;124mrate \u001b[39m\u001b[38;5;132;01m{\u001b[39;00mwrite_rate\u001b[38;5;132;01m}\u001b[39;00m\u001b[38;5;124m, data: \u001b[39m\u001b[38;5;124m'\u001b[39m \u001b[38;5;241m+\u001b[39m \u001b[38;5;124m'\u001b[39m\u001b[38;5;124m'\u001b[39m\u001b[38;5;241m.\u001b[39mjoin([\u001b[38;5;124mf\u001b[39m\u001b[38;5;124m'\u001b[39m\u001b[38;5;132;01m{\u001b[39;00ms\u001b[38;5;132;01m:\u001b[39;00m\u001b[38;5;124m.5f\u001b[39m\u001b[38;5;132;01m}\u001b[39;00m\u001b[38;5;124m \u001b[39m\u001b[38;5;124m'\u001b[39m \u001b[38;5;28;01mfor\u001b[39;00m s \u001b[38;5;129;01min\u001b[39;00m ramp]) \u001b[38;5;241m+\u001b[39m\u001b[38;5;124m'\u001b[39m\u001b[38;5;130;01m\\n\u001b[39;00m\u001b[38;5;124m'\u001b[39m)\n\u001b[1;32m---> 23\u001b[0m     \u001b[43mtask\u001b[49m\u001b[38;5;241;43m.\u001b[39;49m\u001b[43mwait_until_done\u001b[49m\u001b[43m(\u001b[49m\u001b[43m)\u001b[49m\n\u001b[0;32m     24\u001b[0m old_v \u001b[38;5;241m=\u001b[39m new_v \u001b[38;5;66;03m# reset        \u001b[39;00m\n\u001b[0;32m     25\u001b[0m time\u001b[38;5;241m.\u001b[39msleep(\u001b[38;5;241m1\u001b[39m)\n",
      "File \u001b[1;32m~\\AppData\\Local\\Packages\\PythonSoftwareFoundation.Python.3.10_qbz5n2kfra8p0\\LocalCache\\local-packages\\Python310\\site-packages\\nidaqmx\\task.py:1107\u001b[0m, in \u001b[0;36mTask.wait_until_done\u001b[1;34m(self, timeout)\u001b[0m\n\u001b[0;32m   1104\u001b[0m         \u001b[38;5;28;01mif\u001b[39;00m cfunc\u001b[38;5;241m.\u001b[39margtypes \u001b[38;5;129;01mis\u001b[39;00m \u001b[38;5;28;01mNone\u001b[39;00m:\n\u001b[0;32m   1105\u001b[0m             cfunc\u001b[38;5;241m.\u001b[39margtypes \u001b[38;5;241m=\u001b[39m [lib_importer\u001b[38;5;241m.\u001b[39mtask_handle, ctypes\u001b[38;5;241m.\u001b[39mc_double]\n\u001b[1;32m-> 1107\u001b[0m error_code \u001b[38;5;241m=\u001b[39m \u001b[43mcfunc\u001b[49m\u001b[43m(\u001b[49m\u001b[38;5;28;43mself\u001b[39;49m\u001b[38;5;241;43m.\u001b[39;49m\u001b[43m_handle\u001b[49m\u001b[43m,\u001b[49m\u001b[43m \u001b[49m\u001b[43mtimeout\u001b[49m\u001b[43m)\u001b[49m\n\u001b[0;32m   1108\u001b[0m check_for_error(error_code)\n",
      "\u001b[1;31mKeyboardInterrupt\u001b[0m: "
     ]
    },
    {
     "name": "stdout",
     "output_type": "stream",
     "text": [
      " 66495x10 datapoints\r"
     ]
    }
   ],
   "source": [
    "while True:\n",
    "    # to set new voltage\n",
    "    new_v = np.random.random()*2-1# V\n",
    "\n",
    "    write_rate = 100\n",
    "    duration = 1\n",
    "    ramp = np.linspace(old_v, new_v, int(write_rate*duration))\n",
    "    with nidaqmx.Task() as task:\n",
    "        channel = task.ao_channels.add_ao_voltage_chan(\"Dev1/ao0\")\n",
    "        task.timing.cfg_samp_clk_timing(rate=write_rate,\n",
    "                                            #source='/cDAQ1/ao/SampleClock',\n",
    "                                            #active_edge=nidaqmx.constants.Edge.RISING,\n",
    "                                            #sample_mode=nidaqmx.constants.AcquisitionType.FINITE,\n",
    "                                        samps_per_chan= len(ramp)\n",
    "                                       )\n",
    "        writer = nidaqmx.stream_writers.AnalogMultiChannelWriter(task.out_stream)\n",
    "\n",
    "\n",
    "        task.write(ramp, auto_start=False)\n",
    "        task.start()\n",
    "        with open('nilog_ao0.txt','a') as f:\n",
    "            f.write(str(datetime.datetime.now())+'\\n'+ f'rate {write_rate}, data: ' + ''.join([f'{s:.5f} ' for s in ramp]) +'\\n')\n",
    "        task.wait_until_done()\n",
    "    old_v = new_v # reset        \n",
    "    time.sleep(1)"
   ]
  },
  {
   "cell_type": "code",
   "execution_count": null,
   "id": "b6068578-2f4e-453e-8151-d4b8bafc1aae",
   "metadata": {},
   "outputs": [],
   "source": []
  }
 ],
 "metadata": {
  "kernelspec": {
   "display_name": "Python 3 (ipykernel)",
   "language": "python",
   "name": "python3"
  },
  "language_info": {
   "codemirror_mode": {
    "name": "ipython",
    "version": 3
   },
   "file_extension": ".py",
   "mimetype": "text/x-python",
   "name": "python",
   "nbconvert_exporter": "python",
   "pygments_lexer": "ipython3",
   "version": "3.10.6"
  }
 },
 "nbformat": 4,
 "nbformat_minor": 5
}
