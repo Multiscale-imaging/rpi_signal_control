{
 "cells": [
  {
   "cell_type": "code",
   "execution_count": 2,
   "id": "413359de-9490-43c5-9b37-9fc675fe04b6",
   "metadata": {},
   "outputs": [],
   "source": [
    "import socket\n",
    "import time\n",
    "from datetime import datetime\n",
    "import threading\n",
    "import pyvisa\n",
    "import numpy as np"
   ]
  },
  {
   "cell_type": "code",
   "execution_count": 6,
   "id": "55c5ab4a-0c27-4f16-801e-7cbe693967c2",
   "metadata": {},
   "outputs": [
    {
     "ename": "VisaIOError",
     "evalue": "VI_ERROR_TMO (-1073807339): Timeout expired before operation completed.",
     "output_type": "error",
     "traceback": [
      "\u001b[0;31m---------------------------------------------------------------------------\u001b[0m",
      "\u001b[0;31mVisaIOError\u001b[0m                               Traceback (most recent call last)",
      "Input \u001b[0;32mIn [6]\u001b[0m, in \u001b[0;36m<cell line: 15>\u001b[0;34m()\u001b[0m\n\u001b[1;32m     11\u001b[0m rm\u001b[38;5;241m.\u001b[39mlist_resources(\u001b[38;5;124m'\u001b[39m\u001b[38;5;124m?*\u001b[39m\u001b[38;5;124m'\u001b[39m)\n\u001b[1;32m     13\u001b[0m inst \u001b[38;5;241m=\u001b[39m rm\u001b[38;5;241m.\u001b[39mopen_resource(\u001b[38;5;124m'\u001b[39m\u001b[38;5;124mASRL/dev/ttyAMA0::INSTR\u001b[39m\u001b[38;5;124m'\u001b[39m)\n\u001b[0;32m---> 15\u001b[0m \u001b[43minst\u001b[49m\u001b[38;5;241;43m.\u001b[39;49m\u001b[43mwrite\u001b[49m\u001b[43m(\u001b[49m\u001b[38;5;124;43m'\u001b[39;49m\u001b[38;5;124;43m*IDN?\u001b[39;49m\u001b[38;5;124;43m'\u001b[39;49m\u001b[43m)\u001b[49m\n\u001b[1;32m     16\u001b[0m \u001b[38;5;28mprint\u001b[39m(inst\u001b[38;5;241m.\u001b[39mread())\n",
      "File \u001b[0;32m/usr/lib/python3/dist-packages/pyvisa/resources/messagebased.py:197\u001b[0m, in \u001b[0;36mMessageBasedResource.write\u001b[0;34m(self, message, termination, encoding)\u001b[0m\n\u001b[1;32m    191\u001b[0m         warnings\u001b[38;5;241m.\u001b[39mwarn(\n\u001b[1;32m    192\u001b[0m             \u001b[38;5;124m\"\u001b[39m\u001b[38;5;124mwrite message already ends with \u001b[39m\u001b[38;5;124m\"\u001b[39m \u001b[38;5;124m\"\u001b[39m\u001b[38;5;124mtermination characters\u001b[39m\u001b[38;5;124m\"\u001b[39m,\n\u001b[1;32m    193\u001b[0m             stacklevel\u001b[38;5;241m=\u001b[39m\u001b[38;5;241m2\u001b[39m,\n\u001b[1;32m    194\u001b[0m         )\n\u001b[1;32m    195\u001b[0m     message \u001b[38;5;241m+\u001b[39m\u001b[38;5;241m=\u001b[39m term\n\u001b[0;32m--> 197\u001b[0m count \u001b[38;5;241m=\u001b[39m \u001b[38;5;28;43mself\u001b[39;49m\u001b[38;5;241;43m.\u001b[39;49m\u001b[43mwrite_raw\u001b[49m\u001b[43m(\u001b[49m\u001b[43mmessage\u001b[49m\u001b[38;5;241;43m.\u001b[39;49m\u001b[43mencode\u001b[49m\u001b[43m(\u001b[49m\u001b[43menco\u001b[49m\u001b[43m)\u001b[49m\u001b[43m)\u001b[49m\n\u001b[1;32m    199\u001b[0m \u001b[38;5;28;01mreturn\u001b[39;00m count\n",
      "File \u001b[0;32m/usr/lib/python3/dist-packages/pyvisa/resources/messagebased.py:157\u001b[0m, in \u001b[0;36mMessageBasedResource.write_raw\u001b[0;34m(self, message)\u001b[0m\n\u001b[1;32m    143\u001b[0m \u001b[38;5;28;01mdef\u001b[39;00m \u001b[38;5;21mwrite_raw\u001b[39m(\u001b[38;5;28mself\u001b[39m, message: \u001b[38;5;28mbytes\u001b[39m) \u001b[38;5;241m-\u001b[39m\u001b[38;5;241m>\u001b[39m \u001b[38;5;28mint\u001b[39m:\n\u001b[1;32m    144\u001b[0m     \u001b[38;5;124;03m\"\"\"Write a byte message to the device.\u001b[39;00m\n\u001b[1;32m    145\u001b[0m \n\u001b[1;32m    146\u001b[0m \u001b[38;5;124;03m    Parameters\u001b[39;00m\n\u001b[0;32m   (...)\u001b[0m\n\u001b[1;32m    155\u001b[0m \n\u001b[1;32m    156\u001b[0m \u001b[38;5;124;03m    \"\"\"\u001b[39;00m\n\u001b[0;32m--> 157\u001b[0m     \u001b[38;5;28;01mreturn\u001b[39;00m \u001b[38;5;28;43mself\u001b[39;49m\u001b[38;5;241;43m.\u001b[39;49m\u001b[43mvisalib\u001b[49m\u001b[38;5;241;43m.\u001b[39;49m\u001b[43mwrite\u001b[49m\u001b[43m(\u001b[49m\u001b[38;5;28;43mself\u001b[39;49m\u001b[38;5;241;43m.\u001b[39;49m\u001b[43msession\u001b[49m\u001b[43m,\u001b[49m\u001b[43m \u001b[49m\u001b[43mmessage\u001b[49m\u001b[43m)\u001b[49m[\u001b[38;5;241m0\u001b[39m]\n",
      "File \u001b[0;32m/usr/lib/python3/dist-packages/pyvisa_py/highlevel.py:547\u001b[0m, in \u001b[0;36mPyVisaLibrary.write\u001b[0;34m(self, session, data)\u001b[0m\n\u001b[1;32m    544\u001b[0m \u001b[38;5;28;01mexcept\u001b[39;00m \u001b[38;5;167;01mKeyError\u001b[39;00m:\n\u001b[1;32m    545\u001b[0m     \u001b[38;5;28;01mreturn\u001b[39;00m \u001b[38;5;241m0\u001b[39m, \u001b[38;5;28mself\u001b[39m\u001b[38;5;241m.\u001b[39mhandle_return_value(session, StatusCode\u001b[38;5;241m.\u001b[39merror_invalid_object)\n\u001b[0;32m--> 547\u001b[0m \u001b[38;5;28;01mreturn\u001b[39;00m written, \u001b[38;5;28;43mself\u001b[39;49m\u001b[38;5;241;43m.\u001b[39;49m\u001b[43mhandle_return_value\u001b[49m\u001b[43m(\u001b[49m\u001b[43msession\u001b[49m\u001b[43m,\u001b[49m\u001b[43m \u001b[49m\u001b[43mstatus_code\u001b[49m\u001b[43m)\u001b[49m\n",
      "File \u001b[0;32m/usr/lib/python3/dist-packages/pyvisa/highlevel.py:251\u001b[0m, in \u001b[0;36mVisaLibraryBase.handle_return_value\u001b[0;34m(self, session, status_code)\u001b[0m\n\u001b[1;32m    248\u001b[0m     \u001b[38;5;28mself\u001b[39m\u001b[38;5;241m.\u001b[39m_last_status_in_session[session] \u001b[38;5;241m=\u001b[39m rv\n\u001b[1;32m    250\u001b[0m \u001b[38;5;28;01mif\u001b[39;00m rv \u001b[38;5;241m<\u001b[39m \u001b[38;5;241m0\u001b[39m:\n\u001b[0;32m--> 251\u001b[0m     \u001b[38;5;28;01mraise\u001b[39;00m errors\u001b[38;5;241m.\u001b[39mVisaIOError(rv)\n\u001b[1;32m    253\u001b[0m \u001b[38;5;28;01mif\u001b[39;00m rv \u001b[38;5;129;01min\u001b[39;00m \u001b[38;5;28mself\u001b[39m\u001b[38;5;241m.\u001b[39missue_warning_on:\n\u001b[1;32m    254\u001b[0m     \u001b[38;5;28;01mif\u001b[39;00m session \u001b[38;5;129;01mand\u001b[39;00m rv \u001b[38;5;129;01mnot\u001b[39;00m \u001b[38;5;129;01min\u001b[39;00m \u001b[38;5;28mself\u001b[39m\u001b[38;5;241m.\u001b[39m_ignore_warning_in_session[session]:\n",
      "\u001b[0;31mVisaIOError\u001b[0m: VI_ERROR_TMO (-1073807339): Timeout expired before operation completed."
     ]
    }
   ],
   "source": [
    "'''\n",
    "Setup communication\n",
    "'''\n",
    "# pip install pyvisa, pyvisa-py'\n",
    "#find ID's with \"lsUSB\"\n",
    "#then run this as super user\n",
    "#echo 'SUBSYSTEM==\"usb\", ACTION==\"add\", ATTRS{idVendor}==\"0957\", ATTRS{idProduct}==\"1798\" GROUP=\"tty\", MODE=\"0660\"' >> /etc/udev/rules.d/99-com.rules\n",
    "# sudo usermod -a -G tty pi\n",
    "\n",
    "rm = pyvisa.ResourceManager()\n",
    "rm.list_resources('?*')\n",
    "\n",
    "inst = rm.open_resource('USB0::2391::6040::MY58103677::0::INSTR')\n",
    "\n",
    "inst.write('*IDN?')\n",
    "print(inst.read())"
   ]
  },
  {
   "cell_type": "code",
   "execution_count": 3,
   "id": "1969b27d-e657-4ac2-bc1d-7e7f48017c5c",
   "metadata": {},
   "outputs": [
    {
     "data": {
      "text/plain": [
       "'AGILENT TECHNOLOGIES,DSO-X 2014A,MY58103677,02.43.2018020635'"
      ]
     },
     "execution_count": 3,
     "metadata": {},
     "output_type": "execute_result"
    }
   ],
   "source": [
    "'''\n",
    "set up backend\n",
    "'''\n",
    "import importlib\n",
    "import serverBackend as sb\n",
    "importlib.reload(sb)\n",
    "\n",
    "#add the commands we want to use - see manual\n",
    "osc_keys = [\n",
    "    'CHANnel1:DISPlay',\n",
    "    'CHANnel2:DISPlay',\n",
    "    'CHANnel3:DISPlay',\n",
    "    'CHANnel4:DISPlay',\n",
    "    'DIGitize',\n",
    "    'WAVeform:SOURce', # CHANnel1\n",
    "    'WAVeform:FORMat',# BYTE\n",
    "    'WAVeform:POINts', # 500\n",
    "    'WAVeform:DATA', #?\n",
    "    'RUN', #?\n",
    "    'STOP', #?\n",
    "    ]\n",
    "sb.setup(inst, osc_keys)\n",
    "sb.query('*IDN?')"
   ]
  },
  {
   "cell_type": "code",
   "execution_count": 4,
   "id": "f67e33d3-06bb-4968-8306-7e88cbb35e9d",
   "metadata": {},
   "outputs": [
    {
     "name": "stdout",
     "output_type": "stream",
     "text": [
      "   set  CHANnel1:DISPlay: ON\n",
      "   set  CHANnel2:DISPlay: ON\n",
      "   set  CHANnel3:DISPlay: OFF\n",
      "   set  CHANnel4:DISPlay: OFF\n"
     ]
    }
   ],
   "source": [
    "sb.set_single_param('CHANnel1:DISPlay','ON')\n",
    "sb.set_single_param('CHANnel2:DISPlay','ON')\n",
    "sb.set_single_param('CHANnel3:DISPlay','OFF')\n",
    "sb.set_single_param('CHANnel4:DISPlay','OFF')\n",
    "#sb.query('CHANnel1:DISPlay ON')"
   ]
  },
  {
   "cell_type": "code",
   "execution_count": 5,
   "id": "890d8dfd-688f-40fa-a290-0e2c7211613f",
   "metadata": {},
   "outputs": [
    {
     "name": "stdout",
     "output_type": "stream",
     "text": [
      "   set  WAVeform:SOURce: CHANnel1\n",
      "   set  WAVeform:FORMat: ASCii\n",
      "   set  WAVeform:POINts: 100\n",
      "   set  RUN: \n"
     ]
    }
   ],
   "source": [
    "sb.set_single_param('WAVeform:SOURce','CHANnel1')\n",
    "sb.set_single_param('WAVeform:FORMat','ASCii')\n",
    "sb.set_single_param('WAVeform:POINts','100')\n",
    "#sb.set_single_param('DIGitize','')\n",
    "sb.set_single_param('RUN','')\n",
    "#waveform = sb.query('WAVeform:DATA?')\n",
    "#print(waveform)"
   ]
  },
  {
   "cell_type": "code",
   "execution_count": 6,
   "id": "0c977ed5-0850-458a-aaba-bcdcbedcb29a",
   "metadata": {},
   "outputs": [
    {
     "name": "stdout",
     "output_type": "stream",
     "text": [
      "   set  DIGitize: \n",
      "   set  WAVeform:SOURce: CHANnel1\n",
      "   set  WAVeform:SOURce: CHANnel2\n",
      "   set  RUN: \n",
      "0.9685269595959596, -0.14356833636363636\n"
     ]
    }
   ],
   "source": [
    "def get_C1C2():\n",
    "    sb.set_single_param('DIGitize','')\n",
    "    sb.set_single_param('WAVeform:SOURce','CHANnel1')\n",
    "    ch1 = sb.query('WAVeform:DATA?')\n",
    "    sb.set_single_param('WAVeform:SOURce','CHANnel2')\n",
    "    ch2 = sb.query('WAVeform:DATA?')\n",
    "    sb.set_single_param('RUN','')\n",
    "    return ch1+'_'+ch2\n",
    "\n",
    "def get_C1C2_avg():\n",
    "    sb.set_single_param('DIGitize','')\n",
    "    sb.set_single_param('WAVeform:SOURce','CHANnel1')\n",
    "    ch1 = sb.query('WAVeform:DATA?')\n",
    "    ch1 = np.array([float(s.strip(',')) for s in ch1.split(',')[1:]])    \n",
    "    sb.set_single_param('WAVeform:SOURce','CHANnel2')\n",
    "    ch2 = sb.query('WAVeform:DATA?')\n",
    "    ch2 = np.array([float(s.strip(',')) for s in ch2.split(',')[1:]])\n",
    "    sb.set_single_param('RUN','')\n",
    "    return str(np.average(ch1))+', '+str(np.average(ch2))\n",
    "\n",
    "sb.override_dict = {'C1C2?':get_C1C2, 'AvgC1C2?':get_C1C2_avg}\n",
    "#sb12 = sb.query('C1C2?')\n",
    "sb12 = sb.query('AvgC1C2?')\n",
    "print(sb12)"
   ]
  },
  {
   "cell_type": "code",
   "execution_count": null,
   "id": "00d3f9b7-f771-4940-88fb-03f0b00d686a",
   "metadata": {},
   "outputs": [
    {
     "name": "stdout",
     "output_type": "stream",
     "text": [
      "server started and listening\n"
     ]
    }
   ],
   "source": [
    "serversocket = socket.socket(socket.AF_INET, socket.SOCK_STREAM)\n",
    "host = sb.get_ip() #\"127.0.0.1\"\n",
    "port = 5007\n",
    "serversocket.bind((host, port))\n",
    "serversocket.listen(5)\n",
    "print ('server started and listening')\n",
    "while 1:\n",
    "    clientsocket, address = serversocket.accept()\n",
    "    sb.server(clientsocket, address)"
   ]
  },
  {
   "cell_type": "code",
   "execution_count": null,
   "id": "533bb416-7a34-4412-ae34-f672529bc5df",
   "metadata": {},
   "outputs": [],
   "source": []
  },
  {
   "cell_type": "code",
   "execution_count": null,
   "id": "49f3ebd4-418b-488b-9316-75fceef8f6f6",
   "metadata": {},
   "outputs": [],
   "source": []
  },
  {
   "cell_type": "code",
   "execution_count": null,
   "id": "c8d0b792-3bb6-4b66-bce7-2be42936388a",
   "metadata": {},
   "outputs": [],
   "source": []
  }
 ],
 "metadata": {
  "kernelspec": {
   "display_name": "Python 3 (ipykernel)",
   "language": "python",
   "name": "python3"
  },
  "language_info": {
   "codemirror_mode": {
    "name": "ipython",
    "version": 3
   },
   "file_extension": ".py",
   "mimetype": "text/x-python",
   "name": "python",
   "nbconvert_exporter": "python",
   "pygments_lexer": "ipython3",
   "version": "3.9.2"
  }
 },
 "nbformat": 4,
 "nbformat_minor": 5
}
